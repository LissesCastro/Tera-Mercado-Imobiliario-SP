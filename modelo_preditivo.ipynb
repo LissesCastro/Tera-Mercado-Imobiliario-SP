{
 "cells": [
  {
   "cell_type": "code",
   "execution_count": 26,
   "metadata": {},
   "outputs": [],
   "source": [
    "import pandas as pd\n",
    "import numpy as np\n",
    "import math\n",
    "import statsmodels.formula.api as sm\n",
    "from sklearn.model_selection import train_test_split\n",
    "from sklearn.compose import ColumnTransformer\n",
    "from sklearn.linear_model import LinearRegression\n",
    "from sklearn.ensemble import RandomForestRegressor\n",
    "from sklearn.metrics import mean_squared_error, r2_score, mean_absolute_error, mean_absolute_percentage_error\n",
    "from sklearn.pipeline import Pipeline\n",
    "from sklearn.preprocessing import OneHotEncoder, LabelEncoder\n",
    "from sklearn.impute import SimpleImputer\n",
    "import seaborn as sns"
   ]
  },
  {
   "cell_type": "code",
   "execution_count": 2,
   "metadata": {},
   "outputs": [],
   "source": [
    "# Display Pipeline\n",
    "from sklearn import set_config\n",
    "set_config(display='diagram')\n"
   ]
  },
  {
   "cell_type": "code",
   "execution_count": 3,
   "metadata": {},
   "outputs": [],
   "source": [
    "def imprimir_metricas (y, y_pred, dataset_name='valid'):\n",
    "  mean_y = np.mean(y)\n",
    "  mean_pred = np.mean(y_pred)\n",
    "\n",
    "  rmse = round(math.sqrt(mean_squared_error(y, y_pred)), 2)\n",
    "  mae = mean_absolute_error(y, y_pred)\n",
    "  r2 = r2_score(y, y_pred)\n",
    "  mape = mean_absolute_percentage_error(y, y_pred)\n",
    "  \n",
    "  report = pd.DataFrame({\n",
    "    'metric': ['RMSE', 'MAE', 'R^2', 'MAPE', 'Avg. target', 'Avg. Prediction'],\n",
    "    dataset_name: [rmse, mae, r2, mape, mean_y, mean_pred]\n",
    "  })\n",
    "\n",
    "  report[dataset_name] = report[dataset_name].round(2)\n",
    "  return report"
   ]
  },
  {
   "cell_type": "code",
   "execution_count": 50,
   "metadata": {},
   "outputs": [],
   "source": [
    "df = pd.read_csv('Base_EMBRAESP_trabalhada.csv')"
   ]
  },
  {
   "cell_type": "code",
   "execution_count": 51,
   "metadata": {},
   "outputs": [
    {
     "data": {
      "text/plain": [
       "Index(['Unnamed: 0.1', 'ID', 'TIPO_EMP', 'MES_LAN', 'ANO_LAN', 'DATA_ENT',\n",
       "       'DIST', 'SUBPREF', 'MUNICIPIO', 'TIPO_VIA', 'ZONA', 'DORM_UNID',\n",
       "       'BANH_UNID', 'GAR_UNID', 'ELEV', 'COB', 'BLOCOS', 'UNIDAND', 'ANDARES',\n",
       "       'AR_UT_UNID', 'AR_TT_UNID', 'AR_TT_TERR', 'TT_UNID', 'DORM_EMP',\n",
       "       'BANH_EMP', 'GAR_EMP', 'AU_EMP', 'AT_EMP', 'PC_TT_UN', 'PC_M2_AU',\n",
       "       'PC_M2_AT', 'PC_TT_ATU', 'PC_AU_ATU', 'PC_AT_ATU', 'PC_EMP_ATU',\n",
       "       'VLR_US__CO', 'PC_TT_UN_U', 'PC_M2_AU_U', 'PC_M2_AT_U', 'SIST_FINAN',\n",
       "       'AGENTE', 'INCORPORAD', 'CONSTRUTOR', 'INCORPOR_A', 'CONSTRUT_A',\n",
       "       'COOPERATIV', 'HOTEL', 'FLAT', 'EXFLAT', 'AP2010', 'SC_2010',\n",
       "       'RENRESP91', 'RENRESP00', 'RENRESP10', 'PCMEDAU91', 'PCMEDAU00',\n",
       "       'PCMEDAU10', 'BANH_DORM', 'Unnamed: 0', 'Domicílios_Setor',\n",
       "       'Média_Moradores_por_domicilio_setor', 'Média_Renda_Responsaveis_Setor',\n",
       "       'Domicilios no setor censitário', 'Domicilios alugados',\n",
       "       'Domicilios unipessoais', 'Domicilios 2 ou 3 moradores',\n",
       "       'Domicilios 4 ou mais moradores', 'Residentes no setor censitário',\n",
       "       'Brancos', 'Pretos', 'Amarelos', 'Pardos', 'Índigenas',\n",
       "       'Total de filhos dos responsáveis de domicílios', 'PERC_ALUGADOS',\n",
       "       'PERC_UNIPESSOAIS', 'PERC_2_3_MORADORES', 'PERC_4_MAIS_MORADORES',\n",
       "       'PERC_BRANCOS', 'PERC_PPI', 'PC_TT_UN_log', 'PC_M2_AU_log',\n",
       "       'PC_M2_AT_log', 'VLR_US__CO_log', 'PCMEDAU10_log', 'PC_AU_ATU_log',\n",
       "       'REGIAO'],\n",
       "      dtype='object')"
      ]
     },
     "execution_count": 51,
     "metadata": {},
     "output_type": "execute_result"
    }
   ],
   "source": [
    "df.columns"
   ]
  },
  {
   "cell_type": "code",
   "execution_count": 5,
   "metadata": {},
   "outputs": [
    {
     "data": {
      "text/plain": [
       "(16935, 87)"
      ]
     },
     "execution_count": 5,
     "metadata": {},
     "output_type": "execute_result"
    }
   ],
   "source": [
    "df.shape"
   ]
  },
  {
   "cell_type": "code",
   "execution_count": 52,
   "metadata": {},
   "outputs": [],
   "source": [
    "target = 'PC_AU_ATU_log'\n",
    "numericas = ['ANO_LAN', 'DORM_UNID', 'BANH_UNID', 'GAR_UNID']\n",
    "categoricas = ['REGIAO']\n",
    "features = numericas + categoricas\n",
    "#['', 'ANO_LAN', 'DORM_UNID', 'BANH_UNID', 'GAR_UNID']\n",
    "v_ibge = ['Total de filhos dos responsáveis de domicílios', 'PERC_ALUGADOS',\n",
    "       'PERC_UNIPESSOAIS', 'PERC_2_3_MORADORES', 'PERC_BRANCOS', 'PERC_PPI']"
   ]
  },
  {
   "cell_type": "code",
   "execution_count": 53,
   "metadata": {},
   "outputs": [],
   "source": [
    "X_train, X_test, y_train, y_test = train_test_split(df.drop(target, axis=1), df[target], test_size=0.2)"
   ]
  },
  {
   "cell_type": "code",
   "execution_count": 54,
   "metadata": {},
   "outputs": [],
   "source": [
    "preprocessing = ColumnTransformer(transformers=[\n",
    "    (\"cat\", OneHotEncoder(), categoricas),\n",
    "    #(\"num\", SimpleImputer(), v_ibge)\n",
    "    ], remainder='passthrough')"
   ]
  },
  {
   "cell_type": "code",
   "execution_count": 55,
   "metadata": {},
   "outputs": [],
   "source": [
    "#PIPELINE DEFAULT\n",
    "model = Pipeline(steps=[\n",
    "    ('preprocessamento', preprocessing),\n",
    "    ('regressao', RandomForestRegressor())\n",
    "])"
   ]
  },
  {
   "cell_type": "code",
   "execution_count": 56,
   "metadata": {},
   "outputs": [
    {
     "data": {
      "text/html": [
       "<style>#sk-container-id-4 {color: black;background-color: white;}#sk-container-id-4 pre{padding: 0;}#sk-container-id-4 div.sk-toggleable {background-color: white;}#sk-container-id-4 label.sk-toggleable__label {cursor: pointer;display: block;width: 100%;margin-bottom: 0;padding: 0.3em;box-sizing: border-box;text-align: center;}#sk-container-id-4 label.sk-toggleable__label-arrow:before {content: \"▸\";float: left;margin-right: 0.25em;color: #696969;}#sk-container-id-4 label.sk-toggleable__label-arrow:hover:before {color: black;}#sk-container-id-4 div.sk-estimator:hover label.sk-toggleable__label-arrow:before {color: black;}#sk-container-id-4 div.sk-toggleable__content {max-height: 0;max-width: 0;overflow: hidden;text-align: left;background-color: #f0f8ff;}#sk-container-id-4 div.sk-toggleable__content pre {margin: 0.2em;color: black;border-radius: 0.25em;background-color: #f0f8ff;}#sk-container-id-4 input.sk-toggleable__control:checked~div.sk-toggleable__content {max-height: 200px;max-width: 100%;overflow: auto;}#sk-container-id-4 input.sk-toggleable__control:checked~label.sk-toggleable__label-arrow:before {content: \"▾\";}#sk-container-id-4 div.sk-estimator input.sk-toggleable__control:checked~label.sk-toggleable__label {background-color: #d4ebff;}#sk-container-id-4 div.sk-label input.sk-toggleable__control:checked~label.sk-toggleable__label {background-color: #d4ebff;}#sk-container-id-4 input.sk-hidden--visually {border: 0;clip: rect(1px 1px 1px 1px);clip: rect(1px, 1px, 1px, 1px);height: 1px;margin: -1px;overflow: hidden;padding: 0;position: absolute;width: 1px;}#sk-container-id-4 div.sk-estimator {font-family: monospace;background-color: #f0f8ff;border: 1px dotted black;border-radius: 0.25em;box-sizing: border-box;margin-bottom: 0.5em;}#sk-container-id-4 div.sk-estimator:hover {background-color: #d4ebff;}#sk-container-id-4 div.sk-parallel-item::after {content: \"\";width: 100%;border-bottom: 1px solid gray;flex-grow: 1;}#sk-container-id-4 div.sk-label:hover label.sk-toggleable__label {background-color: #d4ebff;}#sk-container-id-4 div.sk-serial::before {content: \"\";position: absolute;border-left: 1px solid gray;box-sizing: border-box;top: 0;bottom: 0;left: 50%;z-index: 0;}#sk-container-id-4 div.sk-serial {display: flex;flex-direction: column;align-items: center;background-color: white;padding-right: 0.2em;padding-left: 0.2em;position: relative;}#sk-container-id-4 div.sk-item {position: relative;z-index: 1;}#sk-container-id-4 div.sk-parallel {display: flex;align-items: stretch;justify-content: center;background-color: white;position: relative;}#sk-container-id-4 div.sk-item::before, #sk-container-id-4 div.sk-parallel-item::before {content: \"\";position: absolute;border-left: 1px solid gray;box-sizing: border-box;top: 0;bottom: 0;left: 50%;z-index: -1;}#sk-container-id-4 div.sk-parallel-item {display: flex;flex-direction: column;z-index: 1;position: relative;background-color: white;}#sk-container-id-4 div.sk-parallel-item:first-child::after {align-self: flex-end;width: 50%;}#sk-container-id-4 div.sk-parallel-item:last-child::after {align-self: flex-start;width: 50%;}#sk-container-id-4 div.sk-parallel-item:only-child::after {width: 0;}#sk-container-id-4 div.sk-dashed-wrapped {border: 1px dashed gray;margin: 0 0.4em 0.5em 0.4em;box-sizing: border-box;padding-bottom: 0.4em;background-color: white;}#sk-container-id-4 div.sk-label label {font-family: monospace;font-weight: bold;display: inline-block;line-height: 1.2em;}#sk-container-id-4 div.sk-label-container {text-align: center;}#sk-container-id-4 div.sk-container {/* jupyter's `normalize.less` sets `[hidden] { display: none; }` but bootstrap.min.css set `[hidden] { display: none !important; }` so we also need the `!important` here to be able to override the default hidden behavior on the sphinx rendered scikit-learn.org. See: https://github.com/scikit-learn/scikit-learn/issues/21755 */display: inline-block !important;position: relative;}#sk-container-id-4 div.sk-text-repr-fallback {display: none;}</style><div id=\"sk-container-id-4\" class=\"sk-top-container\"><div class=\"sk-text-repr-fallback\"><pre>Pipeline(steps=[(&#x27;preprocessamento&#x27;,\n",
       "                 ColumnTransformer(remainder=&#x27;passthrough&#x27;,\n",
       "                                   transformers=[(&#x27;cat&#x27;, OneHotEncoder(),\n",
       "                                                  [&#x27;REGIAO&#x27;])])),\n",
       "                (&#x27;regressao&#x27;, RandomForestRegressor())])</pre><b>In a Jupyter environment, please rerun this cell to show the HTML representation or trust the notebook. <br />On GitHub, the HTML representation is unable to render, please try loading this page with nbviewer.org.</b></div><div class=\"sk-container\" hidden><div class=\"sk-item sk-dashed-wrapped\"><div class=\"sk-label-container\"><div class=\"sk-label sk-toggleable\"><input class=\"sk-toggleable__control sk-hidden--visually\" id=\"sk-estimator-id-22\" type=\"checkbox\" ><label for=\"sk-estimator-id-22\" class=\"sk-toggleable__label sk-toggleable__label-arrow\">Pipeline</label><div class=\"sk-toggleable__content\"><pre>Pipeline(steps=[(&#x27;preprocessamento&#x27;,\n",
       "                 ColumnTransformer(remainder=&#x27;passthrough&#x27;,\n",
       "                                   transformers=[(&#x27;cat&#x27;, OneHotEncoder(),\n",
       "                                                  [&#x27;REGIAO&#x27;])])),\n",
       "                (&#x27;regressao&#x27;, RandomForestRegressor())])</pre></div></div></div><div class=\"sk-serial\"><div class=\"sk-item sk-dashed-wrapped\"><div class=\"sk-label-container\"><div class=\"sk-label sk-toggleable\"><input class=\"sk-toggleable__control sk-hidden--visually\" id=\"sk-estimator-id-23\" type=\"checkbox\" ><label for=\"sk-estimator-id-23\" class=\"sk-toggleable__label sk-toggleable__label-arrow\">preprocessamento: ColumnTransformer</label><div class=\"sk-toggleable__content\"><pre>ColumnTransformer(remainder=&#x27;passthrough&#x27;,\n",
       "                  transformers=[(&#x27;cat&#x27;, OneHotEncoder(), [&#x27;REGIAO&#x27;])])</pre></div></div></div><div class=\"sk-parallel\"><div class=\"sk-parallel-item\"><div class=\"sk-item\"><div class=\"sk-label-container\"><div class=\"sk-label sk-toggleable\"><input class=\"sk-toggleable__control sk-hidden--visually\" id=\"sk-estimator-id-24\" type=\"checkbox\" ><label for=\"sk-estimator-id-24\" class=\"sk-toggleable__label sk-toggleable__label-arrow\">cat</label><div class=\"sk-toggleable__content\"><pre>[&#x27;REGIAO&#x27;]</pre></div></div></div><div class=\"sk-serial\"><div class=\"sk-item\"><div class=\"sk-estimator sk-toggleable\"><input class=\"sk-toggleable__control sk-hidden--visually\" id=\"sk-estimator-id-25\" type=\"checkbox\" ><label for=\"sk-estimator-id-25\" class=\"sk-toggleable__label sk-toggleable__label-arrow\">OneHotEncoder</label><div class=\"sk-toggleable__content\"><pre>OneHotEncoder()</pre></div></div></div></div></div></div><div class=\"sk-parallel-item\"><div class=\"sk-item\"><div class=\"sk-label-container\"><div class=\"sk-label sk-toggleable\"><input class=\"sk-toggleable__control sk-hidden--visually\" id=\"sk-estimator-id-26\" type=\"checkbox\" ><label for=\"sk-estimator-id-26\" class=\"sk-toggleable__label sk-toggleable__label-arrow\">remainder</label><div class=\"sk-toggleable__content\"><pre>[&#x27;ANO_LAN&#x27;, &#x27;DORM_UNID&#x27;, &#x27;BANH_UNID&#x27;, &#x27;GAR_UNID&#x27;]</pre></div></div></div><div class=\"sk-serial\"><div class=\"sk-item\"><div class=\"sk-estimator sk-toggleable\"><input class=\"sk-toggleable__control sk-hidden--visually\" id=\"sk-estimator-id-27\" type=\"checkbox\" ><label for=\"sk-estimator-id-27\" class=\"sk-toggleable__label sk-toggleable__label-arrow\">passthrough</label><div class=\"sk-toggleable__content\"><pre>passthrough</pre></div></div></div></div></div></div></div></div><div class=\"sk-item\"><div class=\"sk-estimator sk-toggleable\"><input class=\"sk-toggleable__control sk-hidden--visually\" id=\"sk-estimator-id-28\" type=\"checkbox\" ><label for=\"sk-estimator-id-28\" class=\"sk-toggleable__label sk-toggleable__label-arrow\">RandomForestRegressor</label><div class=\"sk-toggleable__content\"><pre>RandomForestRegressor()</pre></div></div></div></div></div></div></div>"
      ],
      "text/plain": [
       "Pipeline(steps=[('preprocessamento',\n",
       "                 ColumnTransformer(remainder='passthrough',\n",
       "                                   transformers=[('cat', OneHotEncoder(),\n",
       "                                                  ['REGIAO'])])),\n",
       "                ('regressao', RandomForestRegressor())])"
      ]
     },
     "execution_count": 56,
     "metadata": {},
     "output_type": "execute_result"
    }
   ],
   "source": [
    "model.fit(X_train[features], y_train)"
   ]
  },
  {
   "cell_type": "code",
   "execution_count": 57,
   "metadata": {},
   "outputs": [
    {
     "data": {
      "text/plain": [
       "0.669557673259138"
      ]
     },
     "execution_count": 57,
     "metadata": {},
     "output_type": "execute_result"
    }
   ],
   "source": [
    "model.score(X_test, y_test)"
   ]
  },
  {
   "attachments": {},
   "cell_type": "markdown",
   "metadata": {},
   "source": [
    "Conjunto 1: 0.65 (RandomF), 0.39 (RegressãoL)\n",
    "Conjunto IBGE: 0.53 (RandomF), 0.26 (RegressãoL)\n",
    "Conjunto 1_log: 0.69 (RandomF), 0.40 (RegressãoL)"
   ]
  },
  {
   "cell_type": "code",
   "execution_count": 82,
   "metadata": {},
   "outputs": [],
   "source": [
    "y_pred = model.predict(X_test)"
   ]
  },
  {
   "cell_type": "code",
   "execution_count": 83,
   "metadata": {},
   "outputs": [
    {
     "data": {
      "text/html": [
       "<div>\n",
       "<style scoped>\n",
       "    .dataframe tbody tr th:only-of-type {\n",
       "        vertical-align: middle;\n",
       "    }\n",
       "\n",
       "    .dataframe tbody tr th {\n",
       "        vertical-align: top;\n",
       "    }\n",
       "\n",
       "    .dataframe thead th {\n",
       "        text-align: right;\n",
       "    }\n",
       "</style>\n",
       "<table border=\"1\" class=\"dataframe\">\n",
       "  <thead>\n",
       "    <tr style=\"text-align: right;\">\n",
       "      <th></th>\n",
       "      <th>metric</th>\n",
       "      <th>valid</th>\n",
       "    </tr>\n",
       "  </thead>\n",
       "  <tbody>\n",
       "    <tr>\n",
       "      <th>0</th>\n",
       "      <td>RMSE</td>\n",
       "      <td>1403.41</td>\n",
       "    </tr>\n",
       "    <tr>\n",
       "      <th>1</th>\n",
       "      <td>MAE</td>\n",
       "      <td>1011.03</td>\n",
       "    </tr>\n",
       "    <tr>\n",
       "      <th>2</th>\n",
       "      <td>R^2</td>\n",
       "      <td>0.66</td>\n",
       "    </tr>\n",
       "    <tr>\n",
       "      <th>3</th>\n",
       "      <td>MAPE</td>\n",
       "      <td>0.20</td>\n",
       "    </tr>\n",
       "    <tr>\n",
       "      <th>4</th>\n",
       "      <td>Avg. target</td>\n",
       "      <td>5455.46</td>\n",
       "    </tr>\n",
       "    <tr>\n",
       "      <th>5</th>\n",
       "      <td>Avg. Prediction</td>\n",
       "      <td>5478.53</td>\n",
       "    </tr>\n",
       "  </tbody>\n",
       "</table>\n",
       "</div>"
      ],
      "text/plain": [
       "            metric    valid\n",
       "0             RMSE  1403.41\n",
       "1              MAE  1011.03\n",
       "2              R^2     0.66\n",
       "3             MAPE     0.20\n",
       "4      Avg. target  5455.46\n",
       "5  Avg. Prediction  5478.53"
      ]
     },
     "execution_count": 83,
     "metadata": {},
     "output_type": "execute_result"
    }
   ],
   "source": [
    "baseline_report = imprimir_metricas(y_test, y_pred)\n",
    "baseline_report"
   ]
  },
  {
   "cell_type": "code",
   "execution_count": 58,
   "metadata": {},
   "outputs": [
    {
     "data": {
      "text/html": [
       "<table class=\"simpletable\">\n",
       "<caption>OLS Regression Results</caption>\n",
       "<tr>\n",
       "  <th>Dep. Variable:</th>      <td>PC_AU_ATU_log</td>  <th>  R-squared:         </th> <td>   0.407</td> \n",
       "</tr>\n",
       "<tr>\n",
       "  <th>Model:</th>                   <td>OLS</td>       <th>  Adj. R-squared:    </th> <td>   0.406</td> \n",
       "</tr>\n",
       "<tr>\n",
       "  <th>Method:</th>             <td>Least Squares</td>  <th>  F-statistic:       </th> <td>   707.6</td> \n",
       "</tr>\n",
       "<tr>\n",
       "  <th>Date:</th>             <td>Thu, 02 Mar 2023</td> <th>  Prob (F-statistic):</th>  <td>  0.00</td>  \n",
       "</tr>\n",
       "<tr>\n",
       "  <th>Time:</th>                 <td>19:53:55</td>     <th>  Log-Likelihood:    </th> <td> -5414.3</td> \n",
       "</tr>\n",
       "<tr>\n",
       "  <th>No. Observations:</th>      <td> 13442</td>      <th>  AIC:               </th> <td>1.086e+04</td>\n",
       "</tr>\n",
       "<tr>\n",
       "  <th>Df Residuals:</th>          <td> 13428</td>      <th>  BIC:               </th> <td>1.096e+04</td>\n",
       "</tr>\n",
       "<tr>\n",
       "  <th>Df Model:</th>              <td>    13</td>      <th>                     </th>     <td> </td>    \n",
       "</tr>\n",
       "<tr>\n",
       "  <th>Covariance Type:</th>      <td>nonrobust</td>    <th>                     </th>     <td> </td>    \n",
       "</tr>\n",
       "</table>\n",
       "<table class=\"simpletable\">\n",
       "<tr>\n",
       "            <td></td>              <th>coef</th>     <th>std err</th>      <th>t</th>      <th>P>|t|</th>  <th>[0.025</th>    <th>0.975]</th>  \n",
       "</tr>\n",
       "<tr>\n",
       "  <th>Intercept</th>            <td>   19.7993</td> <td>    0.784</td> <td>   25.241</td> <td> 0.000</td> <td>   18.262</td> <td>   21.337</td>\n",
       "</tr>\n",
       "<tr>\n",
       "  <th>REGIAO[T.Centro-Sul]</th> <td>   -0.0110</td> <td>    0.016</td> <td>   -0.668</td> <td> 0.504</td> <td>   -0.043</td> <td>    0.021</td>\n",
       "</tr>\n",
       "<tr>\n",
       "  <th>REGIAO[T.Leste 1]</th>    <td>   -0.5389</td> <td>    0.020</td> <td>  -27.524</td> <td> 0.000</td> <td>   -0.577</td> <td>   -0.500</td>\n",
       "</tr>\n",
       "<tr>\n",
       "  <th>REGIAO[T.Leste 2]</th>    <td>   -0.6771</td> <td>    0.034</td> <td>  -19.993</td> <td> 0.000</td> <td>   -0.743</td> <td>   -0.611</td>\n",
       "</tr>\n",
       "<tr>\n",
       "  <th>REGIAO[T.Nordeste]</th>   <td>   -0.2846</td> <td>    0.018</td> <td>  -15.422</td> <td> 0.000</td> <td>   -0.321</td> <td>   -0.248</td>\n",
       "</tr>\n",
       "<tr>\n",
       "  <th>REGIAO[T.Noroeste]</th>   <td>   -0.5320</td> <td>    0.031</td> <td>  -17.187</td> <td> 0.000</td> <td>   -0.593</td> <td>   -0.471</td>\n",
       "</tr>\n",
       "<tr>\n",
       "  <th>REGIAO[T.Oeste]</th>      <td>   -0.0033</td> <td>    0.016</td> <td>   -0.203</td> <td> 0.839</td> <td>   -0.035</td> <td>    0.028</td>\n",
       "</tr>\n",
       "<tr>\n",
       "  <th>REGIAO[T.RMSP]</th>       <td>   -0.4964</td> <td>    0.016</td> <td>  -30.749</td> <td> 0.000</td> <td>   -0.528</td> <td>   -0.465</td>\n",
       "</tr>\n",
       "<tr>\n",
       "  <th>REGIAO[T.Sudeste]</th>    <td>   -0.2725</td> <td>    0.017</td> <td>  -16.115</td> <td> 0.000</td> <td>   -0.306</td> <td>   -0.239</td>\n",
       "</tr>\n",
       "<tr>\n",
       "  <th>REGIAO[T.Sul]</th>        <td>   -0.2981</td> <td>    0.019</td> <td>  -15.723</td> <td> 0.000</td> <td>   -0.335</td> <td>   -0.261</td>\n",
       "</tr>\n",
       "<tr>\n",
       "  <th>ANO_LAN</th>              <td>   -0.0055</td> <td>    0.000</td> <td>  -14.065</td> <td> 0.000</td> <td>   -0.006</td> <td>   -0.005</td>\n",
       "</tr>\n",
       "<tr>\n",
       "  <th>DORM_UNID</th>            <td>   -0.1913</td> <td>    0.006</td> <td>  -30.917</td> <td> 0.000</td> <td>   -0.203</td> <td>   -0.179</td>\n",
       "</tr>\n",
       "<tr>\n",
       "  <th>BANH_UNID</th>            <td>    0.1910</td> <td>    0.007</td> <td>   26.030</td> <td> 0.000</td> <td>    0.177</td> <td>    0.205</td>\n",
       "</tr>\n",
       "<tr>\n",
       "  <th>GAR_UNID</th>             <td>    0.0770</td> <td>    0.006</td> <td>   12.907</td> <td> 0.000</td> <td>    0.065</td> <td>    0.089</td>\n",
       "</tr>\n",
       "</table>\n",
       "<table class=\"simpletable\">\n",
       "<tr>\n",
       "  <th>Omnibus:</th>       <td>119.791</td> <th>  Durbin-Watson:     </th> <td>   2.001</td>\n",
       "</tr>\n",
       "<tr>\n",
       "  <th>Prob(Omnibus):</th> <td> 0.000</td>  <th>  Jarque-Bera (JB):  </th> <td> 164.865</td>\n",
       "</tr>\n",
       "<tr>\n",
       "  <th>Skew:</th>          <td> 0.120</td>  <th>  Prob(JB):          </th> <td>1.58e-36</td>\n",
       "</tr>\n",
       "<tr>\n",
       "  <th>Kurtosis:</th>      <td> 3.487</td>  <th>  Cond. No.          </th> <td>5.03e+05</td>\n",
       "</tr>\n",
       "</table><br/><br/>Notes:<br/>[1] Standard Errors assume that the covariance matrix of the errors is correctly specified.<br/>[2] The condition number is large, 5.03e+05. This might indicate that there are<br/>strong multicollinearity or other numerical problems."
      ],
      "text/plain": [
       "<class 'statsmodels.iolib.summary.Summary'>\n",
       "\"\"\"\n",
       "                            OLS Regression Results                            \n",
       "==============================================================================\n",
       "Dep. Variable:          PC_AU_ATU_log   R-squared:                       0.407\n",
       "Model:                            OLS   Adj. R-squared:                  0.406\n",
       "Method:                 Least Squares   F-statistic:                     707.6\n",
       "Date:                Thu, 02 Mar 2023   Prob (F-statistic):               0.00\n",
       "Time:                        19:53:55   Log-Likelihood:                -5414.3\n",
       "No. Observations:               13442   AIC:                         1.086e+04\n",
       "Df Residuals:                   13428   BIC:                         1.096e+04\n",
       "Df Model:                          13                                         \n",
       "Covariance Type:            nonrobust                                         \n",
       "========================================================================================\n",
       "                           coef    std err          t      P>|t|      [0.025      0.975]\n",
       "----------------------------------------------------------------------------------------\n",
       "Intercept               19.7993      0.784     25.241      0.000      18.262      21.337\n",
       "REGIAO[T.Centro-Sul]    -0.0110      0.016     -0.668      0.504      -0.043       0.021\n",
       "REGIAO[T.Leste 1]       -0.5389      0.020    -27.524      0.000      -0.577      -0.500\n",
       "REGIAO[T.Leste 2]       -0.6771      0.034    -19.993      0.000      -0.743      -0.611\n",
       "REGIAO[T.Nordeste]      -0.2846      0.018    -15.422      0.000      -0.321      -0.248\n",
       "REGIAO[T.Noroeste]      -0.5320      0.031    -17.187      0.000      -0.593      -0.471\n",
       "REGIAO[T.Oeste]         -0.0033      0.016     -0.203      0.839      -0.035       0.028\n",
       "REGIAO[T.RMSP]          -0.4964      0.016    -30.749      0.000      -0.528      -0.465\n",
       "REGIAO[T.Sudeste]       -0.2725      0.017    -16.115      0.000      -0.306      -0.239\n",
       "REGIAO[T.Sul]           -0.2981      0.019    -15.723      0.000      -0.335      -0.261\n",
       "ANO_LAN                 -0.0055      0.000    -14.065      0.000      -0.006      -0.005\n",
       "DORM_UNID               -0.1913      0.006    -30.917      0.000      -0.203      -0.179\n",
       "BANH_UNID                0.1910      0.007     26.030      0.000       0.177       0.205\n",
       "GAR_UNID                 0.0770      0.006     12.907      0.000       0.065       0.089\n",
       "==============================================================================\n",
       "Omnibus:                      119.791   Durbin-Watson:                   2.001\n",
       "Prob(Omnibus):                  0.000   Jarque-Bera (JB):              164.865\n",
       "Skew:                           0.120   Prob(JB):                     1.58e-36\n",
       "Kurtosis:                       3.487   Cond. No.                     5.03e+05\n",
       "==============================================================================\n",
       "\n",
       "Notes:\n",
       "[1] Standard Errors assume that the covariance matrix of the errors is correctly specified.\n",
       "[2] The condition number is large, 5.03e+05. This might indicate that there are\n",
       "strong multicollinearity or other numerical problems.\n",
       "\"\"\""
      ]
     },
     "execution_count": 58,
     "metadata": {},
     "output_type": "execute_result"
    }
   ],
   "source": [
    "reg_linear1 = sm.ols(formula='PC_AU_ATU_log ~ REGIAO + ANO_LAN + DORM_UNID + BANH_UNID + GAR_UNID', data=df.iloc[X_train.index,:]).fit()\n",
    "reg_linear1.summary()"
   ]
  }
 ],
 "metadata": {
  "kernelspec": {
   "display_name": "Python 3",
   "language": "python",
   "name": "python3"
  },
  "language_info": {
   "codemirror_mode": {
    "name": "ipython",
    "version": 3
   },
   "file_extension": ".py",
   "mimetype": "text/x-python",
   "name": "python",
   "nbconvert_exporter": "python",
   "pygments_lexer": "ipython3",
   "version": "3.10.10"
  },
  "orig_nbformat": 4,
  "vscode": {
   "interpreter": {
    "hash": "adf0493720704c1abaf9e3cbeb8fae33bce164851e3bac93058057e194572999"
   }
  }
 },
 "nbformat": 4,
 "nbformat_minor": 2
}
