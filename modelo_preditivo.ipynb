{
 "cells": [
  {
   "cell_type": "code",
   "execution_count": 1,
   "metadata": {},
   "outputs": [],
   "source": [
    "import pandas as pd\n",
    "import numpy as np\n",
    "import math\n",
    "import statsmodels.formula.api as sm\n",
    "from sklearn.model_selection import train_test_split\n",
    "from sklearn.compose import ColumnTransformer\n",
    "from sklearn.linear_model import LinearRegression\n",
    "from sklearn.ensemble import RandomForestRegressor\n",
    "from sklearn.metrics import mean_squared_error, r2_score, mean_absolute_error, mean_absolute_percentage_error\n",
    "from sklearn.pipeline import Pipeline\n",
    "from sklearn.preprocessing import OneHotEncoder, LabelEncoder\n",
    "from sklearn.impute import SimpleImputer\n",
    "from sklearn.preprocessing import StandardScaler\n",
    "from sklearn.inspection import permutation_importance\n",
    "import seaborn as sns\n",
    "import matplotlib.pyplot as plt"
   ]
  },
  {
   "cell_type": "code",
   "execution_count": 2,
   "metadata": {},
   "outputs": [],
   "source": [
    "# Display Pipeline\n",
    "from sklearn import set_config\n",
    "set_config(display='diagram')\n"
   ]
  },
  {
   "cell_type": "code",
   "execution_count": 112,
   "metadata": {},
   "outputs": [],
   "source": [
    "#FUNÇÃO PARA EXIBIS AS MÉTRICAS DO MODELO\n",
    "def imprimir_metricas (y, y_pred, dataset_name='valid'):\n",
    "  mean_y = np.mean(y)\n",
    "  mean_pred = np.mean(y_pred)\n",
    "\n",
    "  rmse = round(math.sqrt(mean_squared_error(y, y_pred)), 2)\n",
    "  mae = mean_absolute_error(y, y_pred)\n",
    "  r2 = r2_score(y, y_pred)\n",
    "  mape = mean_absolute_percentage_error(y, y_pred)\n",
    "  \n",
    "  report = pd.DataFrame({\n",
    "    'metric': ['RMSE', 'MAE', 'R^2', 'MAPE', 'Avg. target', 'Avg. Prediction'],\n",
    "    dataset_name: [rmse, mae, r2, mape, mean_y, mean_pred]\n",
    "  })\n",
    "\n",
    "  report[dataset_name] = report[dataset_name].round(2)\n",
    "  return report"
   ]
  },
  {
   "attachments": {},
   "cell_type": "markdown",
   "metadata": {},
   "source": [
    "<h2> 1. Lendo a base </h2>"
   ]
  },
  {
   "cell_type": "code",
   "execution_count": 159,
   "metadata": {},
   "outputs": [],
   "source": [
    "df = pd.read_csv('Base_EMBRAESP_trabalhada.csv')\n",
    "#df = df.drop(['MES_LAN', 'AGENTE', 'DATA_ENT', 'ZONA'], axis=1)"
   ]
  },
  {
   "cell_type": "code",
   "execution_count": 160,
   "metadata": {},
   "outputs": [
    {
     "data": {
      "text/plain": [
       "Index(['Unnamed: 0.1', 'ID', 'TIPO_EMP', 'MES_LAN', 'ANO_LAN', 'DATA_ENT',\n",
       "       'DIST', 'SUBPREF', 'MUNICIPIO', 'TIPO_VIA', 'ZONA', 'DORM_UNID',\n",
       "       'BANH_UNID', 'GAR_UNID', 'ELEV', 'COB', 'BLOCOS', 'UNIDAND', 'ANDARES',\n",
       "       'AR_UT_UNID', 'AR_TT_UNID', 'AR_TT_TERR', 'TT_UNID', 'DORM_EMP',\n",
       "       'BANH_EMP', 'GAR_EMP', 'AU_EMP', 'AT_EMP', 'PC_TT_UN', 'PC_M2_AU',\n",
       "       'PC_M2_AT', 'PC_TT_ATU', 'PC_AU_ATU', 'PC_AT_ATU', 'PC_EMP_ATU',\n",
       "       'VLR_US__CO', 'PC_TT_UN_U', 'PC_M2_AU_U', 'PC_M2_AT_U', 'SIST_FINAN',\n",
       "       'AGENTE', 'INCORPORAD', 'CONSTRUTOR', 'INCORPOR_A', 'CONSTRUT_A',\n",
       "       'COOPERATIV', 'HOTEL', 'FLAT', 'EXFLAT', 'AP2010', 'SC_2010',\n",
       "       'RENRESP91', 'RENRESP00', 'RENRESP10', 'PCMEDAU91', 'PCMEDAU00',\n",
       "       'PCMEDAU10', 'BANH_DORM', 'Unnamed: 0', 'Domicílios_Setor',\n",
       "       'Média_Moradores_por_domicilio_setor', 'Média_Renda_Responsaveis_Setor',\n",
       "       'Domicilios no setor censitário', 'Domicilios alugados',\n",
       "       'Domicilios unipessoais', 'Domicilios 2 ou 3 moradores',\n",
       "       'Domicilios 4 ou mais moradores', 'Residentes no setor censitário',\n",
       "       'Brancos', 'Pretos', 'Amarelos', 'Pardos', 'Índigenas',\n",
       "       'Total de filhos dos responsáveis de domicílios', 'PERC_ALUGADOS',\n",
       "       'PERC_UNIPESSOAIS', 'PERC_2_3_MORADORES', 'PERC_4_MAIS_MORADORES',\n",
       "       'PERC_BRANCOS', 'PERC_PPI', 'PC_TT_UN_log', 'PC_M2_AU_log',\n",
       "       'PC_M2_AT_log', 'VLR_US__CO_log', 'PCMEDAU10_log', 'PC_AU_ATU_log',\n",
       "       'REGIAO'],\n",
       "      dtype='object')"
      ]
     },
     "execution_count": 160,
     "metadata": {},
     "output_type": "execute_result"
    }
   ],
   "source": [
    "df.columns"
   ]
  },
  {
   "cell_type": "code",
   "execution_count": 161,
   "metadata": {},
   "outputs": [],
   "source": [
    "df.columns\n",
    "df = df.drop(['Unnamed: 0.1', 'Unnamed: 0','RENRESP91', 'PCMEDAU00',\n",
    "       'PCMEDAU10', 'RENRESP00', 'ID', 'AGENTE', 'PC_TT_UN', 'PC_M2_AU', 'PC_M2_AT', 'PC_TT_ATU', 'PC_AT_ATU', 'PC_EMP_ATU',\n",
    "       'VLR_US__CO', 'PC_TT_UN_U', 'PC_M2_AU_U', 'PC_M2_AT_U', 'PC_TT_UN_log', 'PC_M2_AT_log', 'VLR_US__CO_log', 'PCMEDAU10_log', 'PCMEDAU91', 'PC_M2_AU_log'], axis=1)"
   ]
  },
  {
   "attachments": {},
   "cell_type": "markdown",
   "metadata": {},
   "source": [
    "<h3>1.1 Definindo as variáveis que estarão presentes no modelo</h3>"
   ]
  },
  {
   "cell_type": "code",
   "execution_count": 162,
   "metadata": {},
   "outputs": [],
   "source": [
    "target = 'PC_AU_ATU_log'\n",
    "numericas = ['ANO_LAN', 'DORM_UNID', 'BANH_DORM', 'AR_UT_UNID']\n",
    "categoricas = ['REGIAO', 'TIPO_EMP']\n",
    "features = numericas + categoricas\n",
    "#['', 'ANO_LAN', 'DORM_UNID', 'BANH_UNID', 'GAR_UNID']\n",
    "v_ibge = ['Total de filhos dos responsáveis de domicílios', 'PERC_ALUGADOS',\n",
    "       'PERC_UNIPESSOAIS', 'PERC_2_3_MORADORES', 'PERC_BRANCOS', 'PERC_PPI']\n",
    "\n",
    "numericas2 = df.select_dtypes(['int', 'float']).columns\n",
    "numericas2 = numericas2.drop(['PC_AU_ATU_log', 'PC_AU_ATU'])\n",
    "categoricas2 = df.select_dtypes(['object', 'string']).columns\n"
   ]
  },
  {
   "cell_type": "code",
   "execution_count": 163,
   "metadata": {},
   "outputs": [],
   "source": [
    "for col in categoricas2:\n",
    "    df[col] = df[col].fillna(df[col].mode())\n",
    "\n",
    "#df['REGIAO'] = df['REGIAO'].fillna(df['REGIAO'].mode())"
   ]
  },
  {
   "cell_type": "code",
   "execution_count": 164,
   "metadata": {},
   "outputs": [
    {
     "name": "stdout",
     "output_type": "stream",
     "text": [
      "<class 'pandas.core.frame.DataFrame'>\n",
      "RangeIndex: 16935 entries, 0 to 16934\n",
      "Data columns (total 14 columns):\n",
      " #   Column      Non-Null Count  Dtype \n",
      "---  ------      --------------  ----- \n",
      " 0   TIPO_EMP    16935 non-null  object\n",
      " 1   MES_LAN     16935 non-null  object\n",
      " 2   DATA_ENT    16935 non-null  object\n",
      " 3   DIST        16935 non-null  object\n",
      " 4   SUBPREF     16935 non-null  object\n",
      " 5   MUNICIPIO   16935 non-null  object\n",
      " 6   TIPO_VIA    16929 non-null  object\n",
      " 7   ZONA        16935 non-null  object\n",
      " 8   SIST_FINAN  16935 non-null  object\n",
      " 9   INCORPORAD  16935 non-null  object\n",
      " 10  CONSTRUTOR  16935 non-null  object\n",
      " 11  INCORPOR_A  16935 non-null  object\n",
      " 12  CONSTRUT_A  16935 non-null  object\n",
      " 13  REGIAO      16804 non-null  object\n",
      "dtypes: object(14)\n",
      "memory usage: 1.8+ MB\n"
     ]
    }
   ],
   "source": [
    "df[categoricas2].info()"
   ]
  },
  {
   "attachments": {},
   "cell_type": "markdown",
   "metadata": {},
   "source": [
    "<h2>2. Fazendo os modelos de regressão </h2>"
   ]
  },
  {
   "cell_type": "code",
   "execution_count": 165,
   "metadata": {},
   "outputs": [],
   "source": [
    "X_train, X_test, y_train, y_test = train_test_split(df.drop(target, axis=1), df[target], test_size=0.2)"
   ]
  },
  {
   "attachments": {},
   "cell_type": "markdown",
   "metadata": {},
   "source": [
    "<h3>2.1 Modelo de regressão linear </h3>\n",
    "O modelo de regressão linear permite maior interpretabilidade das variáveis e da constituição do preço dos empreendimentos lançados. Contém alguma perda de performance em relação aos modelos mais avançados, como ensembles de Random Forest, mas são mais facilmente lidos."
   ]
  },
  {
   "attachments": {},
   "cell_type": "markdown",
   "metadata": {},
   "source": [
    "<h3>2.1.1 - Criando o baseline</h3>\n",
    "<>No modelo baseline foram consideradas variáveis que são intuitivamente conhecidas na descrição de um empreendimento imobiliário, como o número de dormitórios, o número de banheiros e a área do apartamento. <>"
   ]
  },
  {
   "cell_type": "code",
   "execution_count": 166,
   "metadata": {},
   "outputs": [
    {
     "data": {
      "text/html": [
       "<table class=\"simpletable\">\n",
       "<caption>OLS Regression Results</caption>\n",
       "<tr>\n",
       "  <th>Dep. Variable:</th>      <td>PC_AU_ATU_log</td>  <th>  R-squared:         </th> <td>   0.178</td> \n",
       "</tr>\n",
       "<tr>\n",
       "  <th>Model:</th>                   <td>OLS</td>       <th>  Adj. R-squared:    </th> <td>   0.178</td> \n",
       "</tr>\n",
       "<tr>\n",
       "  <th>Method:</th>             <td>Least Squares</td>  <th>  F-statistic:       </th> <td>   977.0</td> \n",
       "</tr>\n",
       "<tr>\n",
       "  <th>Date:</th>             <td>Sun, 12 Mar 2023</td> <th>  Prob (F-statistic):</th>  <td>  0.00</td>  \n",
       "</tr>\n",
       "<tr>\n",
       "  <th>Time:</th>                 <td>20:00:06</td>     <th>  Log-Likelihood:    </th> <td> -7566.1</td> \n",
       "</tr>\n",
       "<tr>\n",
       "  <th>No. Observations:</th>      <td> 13548</td>      <th>  AIC:               </th> <td>1.514e+04</td>\n",
       "</tr>\n",
       "<tr>\n",
       "  <th>Df Residuals:</th>          <td> 13544</td>      <th>  BIC:               </th> <td>1.517e+04</td>\n",
       "</tr>\n",
       "<tr>\n",
       "  <th>Df Model:</th>              <td>     3</td>      <th>                     </th>     <td> </td>    \n",
       "</tr>\n",
       "<tr>\n",
       "  <th>Covariance Type:</th>      <td>nonrobust</td>    <th>                     </th>     <td> </td>    \n",
       "</tr>\n",
       "</table>\n",
       "<table class=\"simpletable\">\n",
       "<tr>\n",
       "       <td></td>         <th>coef</th>     <th>std err</th>      <th>t</th>      <th>P>|t|</th>  <th>[0.025</th>    <th>0.975]</th>  \n",
       "</tr>\n",
       "<tr>\n",
       "  <th>Intercept</th>  <td>    8.4897</td> <td>    0.012</td> <td>  681.757</td> <td> 0.000</td> <td>    8.465</td> <td>    8.514</td>\n",
       "</tr>\n",
       "<tr>\n",
       "  <th>DORM_UNID</th>  <td>   -0.2384</td> <td>    0.007</td> <td>  -33.729</td> <td> 0.000</td> <td>   -0.252</td> <td>   -0.225</td>\n",
       "</tr>\n",
       "<tr>\n",
       "  <th>BANH_UNID</th>  <td>    0.2457</td> <td>    0.009</td> <td>   27.799</td> <td> 0.000</td> <td>    0.228</td> <td>    0.263</td>\n",
       "</tr>\n",
       "<tr>\n",
       "  <th>AR_UT_UNID</th> <td>    0.0020</td> <td>    0.000</td> <td>   15.769</td> <td> 0.000</td> <td>    0.002</td> <td>    0.002</td>\n",
       "</tr>\n",
       "</table>\n",
       "<table class=\"simpletable\">\n",
       "<tr>\n",
       "  <th>Omnibus:</th>       <td>81.634</td> <th>  Durbin-Watson:     </th> <td>   1.995</td>\n",
       "</tr>\n",
       "<tr>\n",
       "  <th>Prob(Omnibus):</th> <td> 0.000</td> <th>  Jarque-Bera (JB):  </th> <td>  87.276</td>\n",
       "</tr>\n",
       "<tr>\n",
       "  <th>Skew:</th>          <td> 0.162</td> <th>  Prob(JB):          </th> <td>1.12e-19</td>\n",
       "</tr>\n",
       "<tr>\n",
       "  <th>Kurtosis:</th>      <td> 3.223</td> <th>  Cond. No.          </th> <td>    426.</td>\n",
       "</tr>\n",
       "</table><br/><br/>Notes:<br/>[1] Standard Errors assume that the covariance matrix of the errors is correctly specified."
      ],
      "text/plain": [
       "<class 'statsmodels.iolib.summary.Summary'>\n",
       "\"\"\"\n",
       "                            OLS Regression Results                            \n",
       "==============================================================================\n",
       "Dep. Variable:          PC_AU_ATU_log   R-squared:                       0.178\n",
       "Model:                            OLS   Adj. R-squared:                  0.178\n",
       "Method:                 Least Squares   F-statistic:                     977.0\n",
       "Date:                Sun, 12 Mar 2023   Prob (F-statistic):               0.00\n",
       "Time:                        20:00:06   Log-Likelihood:                -7566.1\n",
       "No. Observations:               13548   AIC:                         1.514e+04\n",
       "Df Residuals:                   13544   BIC:                         1.517e+04\n",
       "Df Model:                           3                                         \n",
       "Covariance Type:            nonrobust                                         \n",
       "==============================================================================\n",
       "                 coef    std err          t      P>|t|      [0.025      0.975]\n",
       "------------------------------------------------------------------------------\n",
       "Intercept      8.4897      0.012    681.757      0.000       8.465       8.514\n",
       "DORM_UNID     -0.2384      0.007    -33.729      0.000      -0.252      -0.225\n",
       "BANH_UNID      0.2457      0.009     27.799      0.000       0.228       0.263\n",
       "AR_UT_UNID     0.0020      0.000     15.769      0.000       0.002       0.002\n",
       "==============================================================================\n",
       "Omnibus:                       81.634   Durbin-Watson:                   1.995\n",
       "Prob(Omnibus):                  0.000   Jarque-Bera (JB):               87.276\n",
       "Skew:                           0.162   Prob(JB):                     1.12e-19\n",
       "Kurtosis:                       3.223   Cond. No.                         426.\n",
       "==============================================================================\n",
       "\n",
       "Notes:\n",
       "[1] Standard Errors assume that the covariance matrix of the errors is correctly specified.\n",
       "\"\"\""
      ]
     },
     "execution_count": 166,
     "metadata": {},
     "output_type": "execute_result"
    }
   ],
   "source": [
    "rl_baseline = sm.ols(formula='PC_AU_ATU ~ DORM_UNID + BANH_UNID + AR_UT_UNID', data=df.iloc[X_train.index,:]).fit()\n",
    "rl_baseline_log = sm.ols(formula='PC_AU_ATU_log ~ DORM_UNID + BANH_UNID + AR_UT_UNID', data=df.iloc[X_train.index,:]).fit()\n",
    "\n",
    "rl_baseline_log.summary()"
   ]
  },
  {
   "attachments": {},
   "cell_type": "markdown",
   "metadata": {},
   "source": [
    "Percebe-se que as variáveis relacionadas apenas ao apartamento não explicam bem, sozinhas, a variação do preço da área útil. O grau de explicabilidade das variáveis se mantém abaixo dos 20% para o caso da variável resposta em forma absoluta e logarítimica. \n",
    "\n",
    "O estudo sobre a dinâmica imobiliária no mercado de São Paulo leva ao entendimento de que duas variáveis são cruciais para o entendimento do preço das unidades: O local do empreendimento e o ano de lançamento. O local do empreendimento importa porque uma cidade desigual como São Paulo contém uma alta variabilidade no preço da terra, que se reflete diretamente nos valores de compra e venda de aluguéis dos imóveis; o ano de lançamento mantém relações com a macroeconomia, no sentido de que embora a demanda por moradia sempre seja alta, em anos de boom econômico a oferta e a disponibilidade de renda crescem exponencialmente. \n",
    "A seguir, essas duas variáveis são inseridas no modelo da resposta logarítimica do preço da área útil da unidade. "
   ]
  },
  {
   "cell_type": "code",
   "execution_count": 167,
   "metadata": {},
   "outputs": [
    {
     "data": {
      "text/html": [
       "<table class=\"simpletable\">\n",
       "<caption>OLS Regression Results</caption>\n",
       "<tr>\n",
       "  <th>Dep. Variable:</th>      <td>PC_AU_ATU_log</td>  <th>  R-squared:         </th> <td>   0.400</td> \n",
       "</tr>\n",
       "<tr>\n",
       "  <th>Model:</th>                   <td>OLS</td>       <th>  Adj. R-squared:    </th> <td>   0.400</td> \n",
       "</tr>\n",
       "<tr>\n",
       "  <th>Method:</th>             <td>Least Squares</td>  <th>  F-statistic:       </th> <td>   689.1</td> \n",
       "</tr>\n",
       "<tr>\n",
       "  <th>Date:</th>             <td>Sun, 12 Mar 2023</td> <th>  Prob (F-statistic):</th>  <td>  0.00</td>  \n",
       "</tr>\n",
       "<tr>\n",
       "  <th>Time:</th>                 <td>20:00:06</td>     <th>  Log-Likelihood:    </th> <td> -5411.5</td> \n",
       "</tr>\n",
       "<tr>\n",
       "  <th>No. Observations:</th>      <td> 13444</td>      <th>  AIC:               </th> <td>1.085e+04</td>\n",
       "</tr>\n",
       "<tr>\n",
       "  <th>Df Residuals:</th>          <td> 13430</td>      <th>  BIC:               </th> <td>1.096e+04</td>\n",
       "</tr>\n",
       "<tr>\n",
       "  <th>Df Model:</th>              <td>    13</td>      <th>                     </th>     <td> </td>    \n",
       "</tr>\n",
       "<tr>\n",
       "  <th>Covariance Type:</th>      <td>nonrobust</td>    <th>                     </th>     <td> </td>    \n",
       "</tr>\n",
       "</table>\n",
       "<table class=\"simpletable\">\n",
       "<tr>\n",
       "            <td></td>              <th>coef</th>     <th>std err</th>      <th>t</th>      <th>P>|t|</th>  <th>[0.025</th>    <th>0.975]</th>  \n",
       "</tr>\n",
       "<tr>\n",
       "  <th>Intercept</th>            <td>   18.6113</td> <td>    0.799</td> <td>   23.300</td> <td> 0.000</td> <td>   17.046</td> <td>   20.177</td>\n",
       "</tr>\n",
       "<tr>\n",
       "  <th>REGIAO[T.Centro-Sul]</th> <td>   -0.0017</td> <td>    0.017</td> <td>   -0.104</td> <td> 0.917</td> <td>   -0.034</td> <td>    0.031</td>\n",
       "</tr>\n",
       "<tr>\n",
       "  <th>REGIAO[T.Leste 1]</th>    <td>   -0.5412</td> <td>    0.020</td> <td>  -27.560</td> <td> 0.000</td> <td>   -0.580</td> <td>   -0.503</td>\n",
       "</tr>\n",
       "<tr>\n",
       "  <th>REGIAO[T.Leste 2]</th>    <td>   -0.6901</td> <td>    0.033</td> <td>  -20.744</td> <td> 0.000</td> <td>   -0.755</td> <td>   -0.625</td>\n",
       "</tr>\n",
       "<tr>\n",
       "  <th>REGIAO[T.Nordeste]</th>   <td>   -0.2703</td> <td>    0.019</td> <td>  -14.534</td> <td> 0.000</td> <td>   -0.307</td> <td>   -0.234</td>\n",
       "</tr>\n",
       "<tr>\n",
       "  <th>REGIAO[T.Noroeste]</th>   <td>   -0.5432</td> <td>    0.030</td> <td>  -17.951</td> <td> 0.000</td> <td>   -0.603</td> <td>   -0.484</td>\n",
       "</tr>\n",
       "<tr>\n",
       "  <th>REGIAO[T.Oeste]</th>      <td>    0.0071</td> <td>    0.016</td> <td>    0.436</td> <td> 0.663</td> <td>   -0.025</td> <td>    0.039</td>\n",
       "</tr>\n",
       "<tr>\n",
       "  <th>REGIAO[T.RMSP]</th>       <td>   -0.4906</td> <td>    0.016</td> <td>  -30.209</td> <td> 0.000</td> <td>   -0.522</td> <td>   -0.459</td>\n",
       "</tr>\n",
       "<tr>\n",
       "  <th>REGIAO[T.Sudeste]</th>    <td>   -0.2622</td> <td>    0.017</td> <td>  -15.400</td> <td> 0.000</td> <td>   -0.296</td> <td>   -0.229</td>\n",
       "</tr>\n",
       "<tr>\n",
       "  <th>REGIAO[T.Sul]</th>        <td>   -0.2872</td> <td>    0.019</td> <td>  -15.014</td> <td> 0.000</td> <td>   -0.325</td> <td>   -0.250</td>\n",
       "</tr>\n",
       "<tr>\n",
       "  <th>ANO_LAN</th>              <td>   -0.0049</td> <td>    0.000</td> <td>  -12.336</td> <td> 0.000</td> <td>   -0.006</td> <td>   -0.004</td>\n",
       "</tr>\n",
       "<tr>\n",
       "  <th>DORM_UNID</th>            <td>   -0.1779</td> <td>    0.006</td> <td>  -28.489</td> <td> 0.000</td> <td>   -0.190</td> <td>   -0.166</td>\n",
       "</tr>\n",
       "<tr>\n",
       "  <th>BANH_UNID</th>            <td>    0.2178</td> <td>    0.008</td> <td>   27.709</td> <td> 0.000</td> <td>    0.202</td> <td>    0.233</td>\n",
       "</tr>\n",
       "<tr>\n",
       "  <th>AR_UT_UNID</th>           <td>    0.0006</td> <td>    0.000</td> <td>    5.084</td> <td> 0.000</td> <td>    0.000</td> <td>    0.001</td>\n",
       "</tr>\n",
       "</table>\n",
       "<table class=\"simpletable\">\n",
       "<tr>\n",
       "  <th>Omnibus:</th>       <td>114.848</td> <th>  Durbin-Watson:     </th> <td>   1.965</td>\n",
       "</tr>\n",
       "<tr>\n",
       "  <th>Prob(Omnibus):</th> <td> 0.000</td>  <th>  Jarque-Bera (JB):  </th> <td> 159.199</td>\n",
       "</tr>\n",
       "<tr>\n",
       "  <th>Skew:</th>          <td> 0.112</td>  <th>  Prob(JB):          </th> <td>2.69e-35</td>\n",
       "</tr>\n",
       "<tr>\n",
       "  <th>Kurtosis:</th>      <td> 3.484</td>  <th>  Cond. No.          </th> <td>5.13e+05</td>\n",
       "</tr>\n",
       "</table><br/><br/>Notes:<br/>[1] Standard Errors assume that the covariance matrix of the errors is correctly specified.<br/>[2] The condition number is large, 5.13e+05. This might indicate that there are<br/>strong multicollinearity or other numerical problems."
      ],
      "text/plain": [
       "<class 'statsmodels.iolib.summary.Summary'>\n",
       "\"\"\"\n",
       "                            OLS Regression Results                            \n",
       "==============================================================================\n",
       "Dep. Variable:          PC_AU_ATU_log   R-squared:                       0.400\n",
       "Model:                            OLS   Adj. R-squared:                  0.400\n",
       "Method:                 Least Squares   F-statistic:                     689.1\n",
       "Date:                Sun, 12 Mar 2023   Prob (F-statistic):               0.00\n",
       "Time:                        20:00:06   Log-Likelihood:                -5411.5\n",
       "No. Observations:               13444   AIC:                         1.085e+04\n",
       "Df Residuals:                   13430   BIC:                         1.096e+04\n",
       "Df Model:                          13                                         \n",
       "Covariance Type:            nonrobust                                         \n",
       "========================================================================================\n",
       "                           coef    std err          t      P>|t|      [0.025      0.975]\n",
       "----------------------------------------------------------------------------------------\n",
       "Intercept               18.6113      0.799     23.300      0.000      17.046      20.177\n",
       "REGIAO[T.Centro-Sul]    -0.0017      0.017     -0.104      0.917      -0.034       0.031\n",
       "REGIAO[T.Leste 1]       -0.5412      0.020    -27.560      0.000      -0.580      -0.503\n",
       "REGIAO[T.Leste 2]       -0.6901      0.033    -20.744      0.000      -0.755      -0.625\n",
       "REGIAO[T.Nordeste]      -0.2703      0.019    -14.534      0.000      -0.307      -0.234\n",
       "REGIAO[T.Noroeste]      -0.5432      0.030    -17.951      0.000      -0.603      -0.484\n",
       "REGIAO[T.Oeste]          0.0071      0.016      0.436      0.663      -0.025       0.039\n",
       "REGIAO[T.RMSP]          -0.4906      0.016    -30.209      0.000      -0.522      -0.459\n",
       "REGIAO[T.Sudeste]       -0.2622      0.017    -15.400      0.000      -0.296      -0.229\n",
       "REGIAO[T.Sul]           -0.2872      0.019    -15.014      0.000      -0.325      -0.250\n",
       "ANO_LAN                 -0.0049      0.000    -12.336      0.000      -0.006      -0.004\n",
       "DORM_UNID               -0.1779      0.006    -28.489      0.000      -0.190      -0.166\n",
       "BANH_UNID                0.2178      0.008     27.709      0.000       0.202       0.233\n",
       "AR_UT_UNID               0.0006      0.000      5.084      0.000       0.000       0.001\n",
       "==============================================================================\n",
       "Omnibus:                      114.848   Durbin-Watson:                   1.965\n",
       "Prob(Omnibus):                  0.000   Jarque-Bera (JB):              159.199\n",
       "Skew:                           0.112   Prob(JB):                     2.69e-35\n",
       "Kurtosis:                       3.484   Cond. No.                     5.13e+05\n",
       "==============================================================================\n",
       "\n",
       "Notes:\n",
       "[1] Standard Errors assume that the covariance matrix of the errors is correctly specified.\n",
       "[2] The condition number is large, 5.13e+05. This might indicate that there are\n",
       "strong multicollinearity or other numerical problems.\n",
       "\"\"\""
      ]
     },
     "execution_count": 167,
     "metadata": {},
     "output_type": "execute_result"
    }
   ],
   "source": [
    "regressao_au_log = sm.ols(formula='PC_AU_ATU_log ~ REGIAO + ANO_LAN + DORM_UNID + BANH_UNID + AR_UT_UNID', data=df.iloc[X_train.index,:]).fit()\n",
    "regressao_au_log.summary()"
   ]
  },
  {
   "attachments": {},
   "cell_type": "markdown",
   "metadata": {},
   "source": [
    "ESCREVER"
   ]
  },
  {
   "cell_type": "code",
   "execution_count": 168,
   "metadata": {},
   "outputs": [
    {
     "data": {
      "text/html": [
       "<table class=\"simpletable\">\n",
       "<caption>OLS Regression Results</caption>\n",
       "<tr>\n",
       "  <th>Dep. Variable:</th>      <td>PC_AU_ATU_log</td>  <th>  R-squared:         </th> <td>   0.528</td>\n",
       "</tr>\n",
       "<tr>\n",
       "  <th>Model:</th>                   <td>OLS</td>       <th>  Adj. R-squared:    </th> <td>   0.528</td>\n",
       "</tr>\n",
       "<tr>\n",
       "  <th>Method:</th>             <td>Least Squares</td>  <th>  F-statistic:       </th> <td>   1074.</td>\n",
       "</tr>\n",
       "<tr>\n",
       "  <th>Date:</th>             <td>Sun, 12 Mar 2023</td> <th>  Prob (F-statistic):</th>  <td>  0.00</td> \n",
       "</tr>\n",
       "<tr>\n",
       "  <th>Time:</th>                 <td>20:00:06</td>     <th>  Log-Likelihood:    </th> <td> -3797.3</td>\n",
       "</tr>\n",
       "<tr>\n",
       "  <th>No. Observations:</th>      <td> 13444</td>      <th>  AIC:               </th> <td>   7625.</td>\n",
       "</tr>\n",
       "<tr>\n",
       "  <th>Df Residuals:</th>          <td> 13429</td>      <th>  BIC:               </th> <td>   7737.</td>\n",
       "</tr>\n",
       "<tr>\n",
       "  <th>Df Model:</th>              <td>    14</td>      <th>                     </th>     <td> </td>   \n",
       "</tr>\n",
       "<tr>\n",
       "  <th>Covariance Type:</th>      <td>nonrobust</td>    <th>                     </th>     <td> </td>   \n",
       "</tr>\n",
       "</table>\n",
       "<table class=\"simpletable\">\n",
       "<tr>\n",
       "            <td></td>              <th>coef</th>     <th>std err</th>      <th>t</th>      <th>P>|t|</th>  <th>[0.025</th>    <th>0.975]</th>  \n",
       "</tr>\n",
       "<tr>\n",
       "  <th>Intercept</th>            <td>    7.8102</td> <td>    0.023</td> <td>  341.341</td> <td> 0.000</td> <td>    7.765</td> <td>    7.855</td>\n",
       "</tr>\n",
       "<tr>\n",
       "  <th>REGIAO[T.Centro-Sul]</th> <td>   -0.1014</td> <td>    0.015</td> <td>   -6.678</td> <td> 0.000</td> <td>   -0.131</td> <td>   -0.072</td>\n",
       "</tr>\n",
       "<tr>\n",
       "  <th>REGIAO[T.Leste 1]</th>    <td>   -0.1974</td> <td>    0.018</td> <td>  -10.779</td> <td> 0.000</td> <td>   -0.233</td> <td>   -0.162</td>\n",
       "</tr>\n",
       "<tr>\n",
       "  <th>REGIAO[T.Leste 2]</th>    <td>   -0.3410</td> <td>    0.030</td> <td>  -11.346</td> <td> 0.000</td> <td>   -0.400</td> <td>   -0.282</td>\n",
       "</tr>\n",
       "<tr>\n",
       "  <th>REGIAO[T.Nordeste]</th>   <td>   -0.1011</td> <td>    0.017</td> <td>   -6.044</td> <td> 0.000</td> <td>   -0.134</td> <td>   -0.068</td>\n",
       "</tr>\n",
       "<tr>\n",
       "  <th>REGIAO[T.Noroeste]</th>   <td>   -0.2777</td> <td>    0.027</td> <td>  -10.210</td> <td> 0.000</td> <td>   -0.331</td> <td>   -0.224</td>\n",
       "</tr>\n",
       "<tr>\n",
       "  <th>REGIAO[T.Oeste]</th>      <td>   -0.0990</td> <td>    0.015</td> <td>   -6.653</td> <td> 0.000</td> <td>   -0.128</td> <td>   -0.070</td>\n",
       "</tr>\n",
       "<tr>\n",
       "  <th>REGIAO[T.RMSP]</th>       <td>   -0.3128</td> <td>    0.015</td> <td>  -21.199</td> <td> 0.000</td> <td>   -0.342</td> <td>   -0.284</td>\n",
       "</tr>\n",
       "<tr>\n",
       "  <th>REGIAO[T.Sudeste]</th>    <td>   -0.1285</td> <td>    0.015</td> <td>   -8.413</td> <td> 0.000</td> <td>   -0.158</td> <td>   -0.099</td>\n",
       "</tr>\n",
       "<tr>\n",
       "  <th>REGIAO[T.Sul]</th>        <td>   -0.2675</td> <td>    0.017</td> <td>  -15.651</td> <td> 0.000</td> <td>   -0.301</td> <td>   -0.234</td>\n",
       "</tr>\n",
       "<tr>\n",
       "  <th>TIPO_EMP[T.VERTIC]</th>   <td>    0.3064</td> <td>    0.009</td> <td>   34.471</td> <td> 0.000</td> <td>    0.289</td> <td>    0.324</td>\n",
       "</tr>\n",
       "<tr>\n",
       "  <th>DORM_UNID</th>            <td>   -0.0255</td> <td>    0.006</td> <td>   -4.366</td> <td> 0.000</td> <td>   -0.037</td> <td>   -0.014</td>\n",
       "</tr>\n",
       "<tr>\n",
       "  <th>BANH_DORM</th>            <td>    0.4111</td> <td>    0.016</td> <td>   25.014</td> <td> 0.000</td> <td>    0.379</td> <td>    0.443</td>\n",
       "</tr>\n",
       "<tr>\n",
       "  <th>AR_UT_UNID</th>           <td>    0.0007</td> <td> 9.57e-05</td> <td>    7.281</td> <td> 0.000</td> <td>    0.001</td> <td>    0.001</td>\n",
       "</tr>\n",
       "<tr>\n",
       "  <th>RENRESP10</th>            <td> 8.999e-05</td> <td> 2.34e-06</td> <td>   38.522</td> <td> 0.000</td> <td> 8.54e-05</td> <td> 9.46e-05</td>\n",
       "</tr>\n",
       "</table>\n",
       "<table class=\"simpletable\">\n",
       "<tr>\n",
       "  <th>Omnibus:</th>       <td>157.673</td> <th>  Durbin-Watson:     </th> <td>   1.980</td>\n",
       "</tr>\n",
       "<tr>\n",
       "  <th>Prob(Omnibus):</th> <td> 0.000</td>  <th>  Jarque-Bera (JB):  </th> <td> 213.150</td>\n",
       "</tr>\n",
       "<tr>\n",
       "  <th>Skew:</th>          <td> 0.163</td>  <th>  Prob(JB):          </th> <td>5.19e-47</td>\n",
       "</tr>\n",
       "<tr>\n",
       "  <th>Kurtosis:</th>      <td> 3.524</td>  <th>  Cond. No.          </th> <td>6.74e+04</td>\n",
       "</tr>\n",
       "</table><br/><br/>Notes:<br/>[1] Standard Errors assume that the covariance matrix of the errors is correctly specified.<br/>[2] The condition number is large, 6.74e+04. This might indicate that there are<br/>strong multicollinearity or other numerical problems."
      ],
      "text/plain": [
       "<class 'statsmodels.iolib.summary.Summary'>\n",
       "\"\"\"\n",
       "                            OLS Regression Results                            \n",
       "==============================================================================\n",
       "Dep. Variable:          PC_AU_ATU_log   R-squared:                       0.528\n",
       "Model:                            OLS   Adj. R-squared:                  0.528\n",
       "Method:                 Least Squares   F-statistic:                     1074.\n",
       "Date:                Sun, 12 Mar 2023   Prob (F-statistic):               0.00\n",
       "Time:                        20:00:06   Log-Likelihood:                -3797.3\n",
       "No. Observations:               13444   AIC:                             7625.\n",
       "Df Residuals:                   13429   BIC:                             7737.\n",
       "Df Model:                          14                                         \n",
       "Covariance Type:            nonrobust                                         \n",
       "========================================================================================\n",
       "                           coef    std err          t      P>|t|      [0.025      0.975]\n",
       "----------------------------------------------------------------------------------------\n",
       "Intercept                7.8102      0.023    341.341      0.000       7.765       7.855\n",
       "REGIAO[T.Centro-Sul]    -0.1014      0.015     -6.678      0.000      -0.131      -0.072\n",
       "REGIAO[T.Leste 1]       -0.1974      0.018    -10.779      0.000      -0.233      -0.162\n",
       "REGIAO[T.Leste 2]       -0.3410      0.030    -11.346      0.000      -0.400      -0.282\n",
       "REGIAO[T.Nordeste]      -0.1011      0.017     -6.044      0.000      -0.134      -0.068\n",
       "REGIAO[T.Noroeste]      -0.2777      0.027    -10.210      0.000      -0.331      -0.224\n",
       "REGIAO[T.Oeste]         -0.0990      0.015     -6.653      0.000      -0.128      -0.070\n",
       "REGIAO[T.RMSP]          -0.3128      0.015    -21.199      0.000      -0.342      -0.284\n",
       "REGIAO[T.Sudeste]       -0.1285      0.015     -8.413      0.000      -0.158      -0.099\n",
       "REGIAO[T.Sul]           -0.2675      0.017    -15.651      0.000      -0.301      -0.234\n",
       "TIPO_EMP[T.VERTIC]       0.3064      0.009     34.471      0.000       0.289       0.324\n",
       "DORM_UNID               -0.0255      0.006     -4.366      0.000      -0.037      -0.014\n",
       "BANH_DORM                0.4111      0.016     25.014      0.000       0.379       0.443\n",
       "AR_UT_UNID               0.0007   9.57e-05      7.281      0.000       0.001       0.001\n",
       "RENRESP10             8.999e-05   2.34e-06     38.522      0.000    8.54e-05    9.46e-05\n",
       "==============================================================================\n",
       "Omnibus:                      157.673   Durbin-Watson:                   1.980\n",
       "Prob(Omnibus):                  0.000   Jarque-Bera (JB):              213.150\n",
       "Skew:                           0.163   Prob(JB):                     5.19e-47\n",
       "Kurtosis:                       3.524   Cond. No.                     6.74e+04\n",
       "==============================================================================\n",
       "\n",
       "Notes:\n",
       "[1] Standard Errors assume that the covariance matrix of the errors is correctly specified.\n",
       "[2] The condition number is large, 6.74e+04. This might indicate that there are\n",
       "strong multicollinearity or other numerical problems.\n",
       "\"\"\""
      ]
     },
     "execution_count": 168,
     "metadata": {},
     "output_type": "execute_result"
    }
   ],
   "source": [
    "regressao_au_log = sm.ols(formula='PC_AU_ATU_log ~ REGIAO + DORM_UNID + BANH_DORM + AR_UT_UNID + TIPO_EMP + RENRESP10', data=df.iloc[X_train.index,:]).fit()\n",
    "regressao_au_log.summary()"
   ]
  },
  {
   "attachments": {},
   "cell_type": "markdown",
   "metadata": {},
   "source": [
    "<>3 - Modelo Random Forest<>"
   ]
  },
  {
   "cell_type": "code",
   "execution_count": 169,
   "metadata": {},
   "outputs": [],
   "source": [
    "num_pipeline = Pipeline(steps=[\n",
    "    (\"input\", SimpleImputer()),\n",
    "    ('scaler', StandardScaler()),\n",
    "    ])"
   ]
  },
  {
   "cell_type": "code",
   "execution_count": 170,
   "metadata": {},
   "outputs": [],
   "source": [
    "cat_pipeline = Pipeline(steps=[\n",
    "    (\"cat\", OneHotEncoder(handle_unknown= 'ignore'))\n",
    "    ])"
   ]
  },
  {
   "cell_type": "code",
   "execution_count": 171,
   "metadata": {},
   "outputs": [],
   "source": [
    "#TRANSFORMANDO COLUNAS\n",
    "preprocessing = ColumnTransformer(transformers=[\n",
    "    ('preprocessamento numerico', num_pipeline, numericas2),\n",
    "    ('preprocessamento categorico', cat_pipeline, categoricas2)\n",
    "])"
   ]
  },
  {
   "cell_type": "code",
   "execution_count": 207,
   "metadata": {},
   "outputs": [],
   "source": [
    "model = Pipeline(steps=[('Preprocessamento', preprocessing),\n",
    "                        ('regressao', RandomForestRegressor(n_estimators=10, max_features=0.3))])"
   ]
  },
  {
   "cell_type": "code",
   "execution_count": 208,
   "metadata": {},
   "outputs": [
    {
     "data": {
      "text/html": [
       "<style>#sk-container-id-10 {color: black;background-color: white;}#sk-container-id-10 pre{padding: 0;}#sk-container-id-10 div.sk-toggleable {background-color: white;}#sk-container-id-10 label.sk-toggleable__label {cursor: pointer;display: block;width: 100%;margin-bottom: 0;padding: 0.3em;box-sizing: border-box;text-align: center;}#sk-container-id-10 label.sk-toggleable__label-arrow:before {content: \"▸\";float: left;margin-right: 0.25em;color: #696969;}#sk-container-id-10 label.sk-toggleable__label-arrow:hover:before {color: black;}#sk-container-id-10 div.sk-estimator:hover label.sk-toggleable__label-arrow:before {color: black;}#sk-container-id-10 div.sk-toggleable__content {max-height: 0;max-width: 0;overflow: hidden;text-align: left;background-color: #f0f8ff;}#sk-container-id-10 div.sk-toggleable__content pre {margin: 0.2em;color: black;border-radius: 0.25em;background-color: #f0f8ff;}#sk-container-id-10 input.sk-toggleable__control:checked~div.sk-toggleable__content {max-height: 200px;max-width: 100%;overflow: auto;}#sk-container-id-10 input.sk-toggleable__control:checked~label.sk-toggleable__label-arrow:before {content: \"▾\";}#sk-container-id-10 div.sk-estimator input.sk-toggleable__control:checked~label.sk-toggleable__label {background-color: #d4ebff;}#sk-container-id-10 div.sk-label input.sk-toggleable__control:checked~label.sk-toggleable__label {background-color: #d4ebff;}#sk-container-id-10 input.sk-hidden--visually {border: 0;clip: rect(1px 1px 1px 1px);clip: rect(1px, 1px, 1px, 1px);height: 1px;margin: -1px;overflow: hidden;padding: 0;position: absolute;width: 1px;}#sk-container-id-10 div.sk-estimator {font-family: monospace;background-color: #f0f8ff;border: 1px dotted black;border-radius: 0.25em;box-sizing: border-box;margin-bottom: 0.5em;}#sk-container-id-10 div.sk-estimator:hover {background-color: #d4ebff;}#sk-container-id-10 div.sk-parallel-item::after {content: \"\";width: 100%;border-bottom: 1px solid gray;flex-grow: 1;}#sk-container-id-10 div.sk-label:hover label.sk-toggleable__label {background-color: #d4ebff;}#sk-container-id-10 div.sk-serial::before {content: \"\";position: absolute;border-left: 1px solid gray;box-sizing: border-box;top: 0;bottom: 0;left: 50%;z-index: 0;}#sk-container-id-10 div.sk-serial {display: flex;flex-direction: column;align-items: center;background-color: white;padding-right: 0.2em;padding-left: 0.2em;position: relative;}#sk-container-id-10 div.sk-item {position: relative;z-index: 1;}#sk-container-id-10 div.sk-parallel {display: flex;align-items: stretch;justify-content: center;background-color: white;position: relative;}#sk-container-id-10 div.sk-item::before, #sk-container-id-10 div.sk-parallel-item::before {content: \"\";position: absolute;border-left: 1px solid gray;box-sizing: border-box;top: 0;bottom: 0;left: 50%;z-index: -1;}#sk-container-id-10 div.sk-parallel-item {display: flex;flex-direction: column;z-index: 1;position: relative;background-color: white;}#sk-container-id-10 div.sk-parallel-item:first-child::after {align-self: flex-end;width: 50%;}#sk-container-id-10 div.sk-parallel-item:last-child::after {align-self: flex-start;width: 50%;}#sk-container-id-10 div.sk-parallel-item:only-child::after {width: 0;}#sk-container-id-10 div.sk-dashed-wrapped {border: 1px dashed gray;margin: 0 0.4em 0.5em 0.4em;box-sizing: border-box;padding-bottom: 0.4em;background-color: white;}#sk-container-id-10 div.sk-label label {font-family: monospace;font-weight: bold;display: inline-block;line-height: 1.2em;}#sk-container-id-10 div.sk-label-container {text-align: center;}#sk-container-id-10 div.sk-container {/* jupyter's `normalize.less` sets `[hidden] { display: none; }` but bootstrap.min.css set `[hidden] { display: none !important; }` so we also need the `!important` here to be able to override the default hidden behavior on the sphinx rendered scikit-learn.org. See: https://github.com/scikit-learn/scikit-learn/issues/21755 */display: inline-block !important;position: relative;}#sk-container-id-10 div.sk-text-repr-fallback {display: none;}</style><div id=\"sk-container-id-10\" class=\"sk-top-container\"><div class=\"sk-text-repr-fallback\"><pre>Pipeline(steps=[(&#x27;Preprocessamento&#x27;,\n",
       "                 ColumnTransformer(transformers=[(&#x27;preprocessamento numerico&#x27;,\n",
       "                                                  Pipeline(steps=[(&#x27;input&#x27;,\n",
       "                                                                   SimpleImputer()),\n",
       "                                                                  (&#x27;scaler&#x27;,\n",
       "                                                                   StandardScaler())]),\n",
       "                                                  Index([&#x27;ANO_LAN&#x27;, &#x27;DORM_UNID&#x27;, &#x27;BANH_UNID&#x27;, &#x27;GAR_UNID&#x27;, &#x27;ELEV&#x27;, &#x27;COB&#x27;,\n",
       "       &#x27;BLOCOS&#x27;, &#x27;UNIDAND&#x27;, &#x27;ANDARES&#x27;, &#x27;AR_UT_UNID&#x27;, &#x27;AR_TT_UNID&#x27;,\n",
       "       &#x27;AR_TT_TERR&#x27;, &#x27;TT_UNID&#x27;, &#x27;DORM_EMP&#x27;, &#x27;BANH_EMP&#x27;, &#x27;GAR_EMP&#x27;, &#x27;AU_EMP...\n",
       "      dtype=&#x27;object&#x27;)),\n",
       "                                                 (&#x27;preprocessamento categorico&#x27;,\n",
       "                                                  Pipeline(steps=[(&#x27;cat&#x27;,\n",
       "                                                                   OneHotEncoder(handle_unknown=&#x27;ignore&#x27;))]),\n",
       "                                                  Index([&#x27;TIPO_EMP&#x27;, &#x27;MES_LAN&#x27;, &#x27;DATA_ENT&#x27;, &#x27;DIST&#x27;, &#x27;SUBPREF&#x27;, &#x27;MUNICIPIO&#x27;,\n",
       "       &#x27;TIPO_VIA&#x27;, &#x27;ZONA&#x27;, &#x27;SIST_FINAN&#x27;, &#x27;INCORPORAD&#x27;, &#x27;CONSTRUTOR&#x27;,\n",
       "       &#x27;INCORPOR_A&#x27;, &#x27;CONSTRUT_A&#x27;, &#x27;REGIAO&#x27;],\n",
       "      dtype=&#x27;object&#x27;))])),\n",
       "                (&#x27;regressao&#x27;,\n",
       "                 RandomForestRegressor(max_features=0.3, n_estimators=10))])</pre><b>In a Jupyter environment, please rerun this cell to show the HTML representation or trust the notebook. <br />On GitHub, the HTML representation is unable to render, please try loading this page with nbviewer.org.</b></div><div class=\"sk-container\" hidden><div class=\"sk-item sk-dashed-wrapped\"><div class=\"sk-label-container\"><div class=\"sk-label sk-toggleable\"><input class=\"sk-toggleable__control sk-hidden--visually\" id=\"sk-estimator-id-73\" type=\"checkbox\" ><label for=\"sk-estimator-id-73\" class=\"sk-toggleable__label sk-toggleable__label-arrow\">Pipeline</label><div class=\"sk-toggleable__content\"><pre>Pipeline(steps=[(&#x27;Preprocessamento&#x27;,\n",
       "                 ColumnTransformer(transformers=[(&#x27;preprocessamento numerico&#x27;,\n",
       "                                                  Pipeline(steps=[(&#x27;input&#x27;,\n",
       "                                                                   SimpleImputer()),\n",
       "                                                                  (&#x27;scaler&#x27;,\n",
       "                                                                   StandardScaler())]),\n",
       "                                                  Index([&#x27;ANO_LAN&#x27;, &#x27;DORM_UNID&#x27;, &#x27;BANH_UNID&#x27;, &#x27;GAR_UNID&#x27;, &#x27;ELEV&#x27;, &#x27;COB&#x27;,\n",
       "       &#x27;BLOCOS&#x27;, &#x27;UNIDAND&#x27;, &#x27;ANDARES&#x27;, &#x27;AR_UT_UNID&#x27;, &#x27;AR_TT_UNID&#x27;,\n",
       "       &#x27;AR_TT_TERR&#x27;, &#x27;TT_UNID&#x27;, &#x27;DORM_EMP&#x27;, &#x27;BANH_EMP&#x27;, &#x27;GAR_EMP&#x27;, &#x27;AU_EMP...\n",
       "      dtype=&#x27;object&#x27;)),\n",
       "                                                 (&#x27;preprocessamento categorico&#x27;,\n",
       "                                                  Pipeline(steps=[(&#x27;cat&#x27;,\n",
       "                                                                   OneHotEncoder(handle_unknown=&#x27;ignore&#x27;))]),\n",
       "                                                  Index([&#x27;TIPO_EMP&#x27;, &#x27;MES_LAN&#x27;, &#x27;DATA_ENT&#x27;, &#x27;DIST&#x27;, &#x27;SUBPREF&#x27;, &#x27;MUNICIPIO&#x27;,\n",
       "       &#x27;TIPO_VIA&#x27;, &#x27;ZONA&#x27;, &#x27;SIST_FINAN&#x27;, &#x27;INCORPORAD&#x27;, &#x27;CONSTRUTOR&#x27;,\n",
       "       &#x27;INCORPOR_A&#x27;, &#x27;CONSTRUT_A&#x27;, &#x27;REGIAO&#x27;],\n",
       "      dtype=&#x27;object&#x27;))])),\n",
       "                (&#x27;regressao&#x27;,\n",
       "                 RandomForestRegressor(max_features=0.3, n_estimators=10))])</pre></div></div></div><div class=\"sk-serial\"><div class=\"sk-item sk-dashed-wrapped\"><div class=\"sk-label-container\"><div class=\"sk-label sk-toggleable\"><input class=\"sk-toggleable__control sk-hidden--visually\" id=\"sk-estimator-id-74\" type=\"checkbox\" ><label for=\"sk-estimator-id-74\" class=\"sk-toggleable__label sk-toggleable__label-arrow\">Preprocessamento: ColumnTransformer</label><div class=\"sk-toggleable__content\"><pre>ColumnTransformer(transformers=[(&#x27;preprocessamento numerico&#x27;,\n",
       "                                 Pipeline(steps=[(&#x27;input&#x27;, SimpleImputer()),\n",
       "                                                 (&#x27;scaler&#x27;, StandardScaler())]),\n",
       "                                 Index([&#x27;ANO_LAN&#x27;, &#x27;DORM_UNID&#x27;, &#x27;BANH_UNID&#x27;, &#x27;GAR_UNID&#x27;, &#x27;ELEV&#x27;, &#x27;COB&#x27;,\n",
       "       &#x27;BLOCOS&#x27;, &#x27;UNIDAND&#x27;, &#x27;ANDARES&#x27;, &#x27;AR_UT_UNID&#x27;, &#x27;AR_TT_UNID&#x27;,\n",
       "       &#x27;AR_TT_TERR&#x27;, &#x27;TT_UNID&#x27;, &#x27;DORM_EMP&#x27;, &#x27;BANH_EMP&#x27;, &#x27;GAR_EMP&#x27;, &#x27;AU_EMP&#x27;,\n",
       "       &#x27;AT_EMP&#x27;, &#x27;COOPERATIV&#x27;, &#x27;HOTEL&#x27;, &#x27;FLA...\n",
       "       &#x27;PERC_UNIPESSOAIS&#x27;, &#x27;PERC_2_3_MORADORES&#x27;, &#x27;PERC_4_MAIS_MORADORES&#x27;,\n",
       "       &#x27;PERC_BRANCOS&#x27;, &#x27;PERC_PPI&#x27;],\n",
       "      dtype=&#x27;object&#x27;)),\n",
       "                                (&#x27;preprocessamento categorico&#x27;,\n",
       "                                 Pipeline(steps=[(&#x27;cat&#x27;,\n",
       "                                                  OneHotEncoder(handle_unknown=&#x27;ignore&#x27;))]),\n",
       "                                 Index([&#x27;TIPO_EMP&#x27;, &#x27;MES_LAN&#x27;, &#x27;DATA_ENT&#x27;, &#x27;DIST&#x27;, &#x27;SUBPREF&#x27;, &#x27;MUNICIPIO&#x27;,\n",
       "       &#x27;TIPO_VIA&#x27;, &#x27;ZONA&#x27;, &#x27;SIST_FINAN&#x27;, &#x27;INCORPORAD&#x27;, &#x27;CONSTRUTOR&#x27;,\n",
       "       &#x27;INCORPOR_A&#x27;, &#x27;CONSTRUT_A&#x27;, &#x27;REGIAO&#x27;],\n",
       "      dtype=&#x27;object&#x27;))])</pre></div></div></div><div class=\"sk-parallel\"><div class=\"sk-parallel-item\"><div class=\"sk-item\"><div class=\"sk-label-container\"><div class=\"sk-label sk-toggleable\"><input class=\"sk-toggleable__control sk-hidden--visually\" id=\"sk-estimator-id-75\" type=\"checkbox\" ><label for=\"sk-estimator-id-75\" class=\"sk-toggleable__label sk-toggleable__label-arrow\">preprocessamento numerico</label><div class=\"sk-toggleable__content\"><pre>Index([&#x27;ANO_LAN&#x27;, &#x27;DORM_UNID&#x27;, &#x27;BANH_UNID&#x27;, &#x27;GAR_UNID&#x27;, &#x27;ELEV&#x27;, &#x27;COB&#x27;,\n",
       "       &#x27;BLOCOS&#x27;, &#x27;UNIDAND&#x27;, &#x27;ANDARES&#x27;, &#x27;AR_UT_UNID&#x27;, &#x27;AR_TT_UNID&#x27;,\n",
       "       &#x27;AR_TT_TERR&#x27;, &#x27;TT_UNID&#x27;, &#x27;DORM_EMP&#x27;, &#x27;BANH_EMP&#x27;, &#x27;GAR_EMP&#x27;, &#x27;AU_EMP&#x27;,\n",
       "       &#x27;AT_EMP&#x27;, &#x27;COOPERATIV&#x27;, &#x27;HOTEL&#x27;, &#x27;FLAT&#x27;, &#x27;EXFLAT&#x27;, &#x27;AP2010&#x27;, &#x27;SC_2010&#x27;,\n",
       "       &#x27;RENRESP10&#x27;, &#x27;BANH_DORM&#x27;, &#x27;Domicílios_Setor&#x27;,\n",
       "       &#x27;Média_Moradores_por_domicilio_setor&#x27;, &#x27;Média_Renda_Responsaveis_Setor&#x27;,\n",
       "       &#x27;Domicilios no setor censitário&#x27;, &#x27;Domicilios alugados&#x27;,\n",
       "       &#x27;Domicilios unipessoais&#x27;, &#x27;Domicilios 2 ou 3 moradores&#x27;,\n",
       "       &#x27;Domicilios 4 ou mais moradores&#x27;, &#x27;Residentes no setor censitário&#x27;,\n",
       "       &#x27;Brancos&#x27;, &#x27;Pretos&#x27;, &#x27;Amarelos&#x27;, &#x27;Pardos&#x27;, &#x27;Índigenas&#x27;,\n",
       "       &#x27;Total de filhos dos responsáveis de domicílios&#x27;, &#x27;PERC_ALUGADOS&#x27;,\n",
       "       &#x27;PERC_UNIPESSOAIS&#x27;, &#x27;PERC_2_3_MORADORES&#x27;, &#x27;PERC_4_MAIS_MORADORES&#x27;,\n",
       "       &#x27;PERC_BRANCOS&#x27;, &#x27;PERC_PPI&#x27;],\n",
       "      dtype=&#x27;object&#x27;)</pre></div></div></div><div class=\"sk-serial\"><div class=\"sk-item\"><div class=\"sk-serial\"><div class=\"sk-item\"><div class=\"sk-estimator sk-toggleable\"><input class=\"sk-toggleable__control sk-hidden--visually\" id=\"sk-estimator-id-76\" type=\"checkbox\" ><label for=\"sk-estimator-id-76\" class=\"sk-toggleable__label sk-toggleable__label-arrow\">SimpleImputer</label><div class=\"sk-toggleable__content\"><pre>SimpleImputer()</pre></div></div></div><div class=\"sk-item\"><div class=\"sk-estimator sk-toggleable\"><input class=\"sk-toggleable__control sk-hidden--visually\" id=\"sk-estimator-id-77\" type=\"checkbox\" ><label for=\"sk-estimator-id-77\" class=\"sk-toggleable__label sk-toggleable__label-arrow\">StandardScaler</label><div class=\"sk-toggleable__content\"><pre>StandardScaler()</pre></div></div></div></div></div></div></div></div><div class=\"sk-parallel-item\"><div class=\"sk-item\"><div class=\"sk-label-container\"><div class=\"sk-label sk-toggleable\"><input class=\"sk-toggleable__control sk-hidden--visually\" id=\"sk-estimator-id-78\" type=\"checkbox\" ><label for=\"sk-estimator-id-78\" class=\"sk-toggleable__label sk-toggleable__label-arrow\">preprocessamento categorico</label><div class=\"sk-toggleable__content\"><pre>Index([&#x27;TIPO_EMP&#x27;, &#x27;MES_LAN&#x27;, &#x27;DATA_ENT&#x27;, &#x27;DIST&#x27;, &#x27;SUBPREF&#x27;, &#x27;MUNICIPIO&#x27;,\n",
       "       &#x27;TIPO_VIA&#x27;, &#x27;ZONA&#x27;, &#x27;SIST_FINAN&#x27;, &#x27;INCORPORAD&#x27;, &#x27;CONSTRUTOR&#x27;,\n",
       "       &#x27;INCORPOR_A&#x27;, &#x27;CONSTRUT_A&#x27;, &#x27;REGIAO&#x27;],\n",
       "      dtype=&#x27;object&#x27;)</pre></div></div></div><div class=\"sk-serial\"><div class=\"sk-item\"><div class=\"sk-serial\"><div class=\"sk-item\"><div class=\"sk-estimator sk-toggleable\"><input class=\"sk-toggleable__control sk-hidden--visually\" id=\"sk-estimator-id-79\" type=\"checkbox\" ><label for=\"sk-estimator-id-79\" class=\"sk-toggleable__label sk-toggleable__label-arrow\">OneHotEncoder</label><div class=\"sk-toggleable__content\"><pre>OneHotEncoder(handle_unknown=&#x27;ignore&#x27;)</pre></div></div></div></div></div></div></div></div></div></div><div class=\"sk-item\"><div class=\"sk-estimator sk-toggleable\"><input class=\"sk-toggleable__control sk-hidden--visually\" id=\"sk-estimator-id-80\" type=\"checkbox\" ><label for=\"sk-estimator-id-80\" class=\"sk-toggleable__label sk-toggleable__label-arrow\">RandomForestRegressor</label><div class=\"sk-toggleable__content\"><pre>RandomForestRegressor(max_features=0.3, n_estimators=10)</pre></div></div></div></div></div></div></div>"
      ],
      "text/plain": [
       "Pipeline(steps=[('Preprocessamento',\n",
       "                 ColumnTransformer(transformers=[('preprocessamento numerico',\n",
       "                                                  Pipeline(steps=[('input',\n",
       "                                                                   SimpleImputer()),\n",
       "                                                                  ('scaler',\n",
       "                                                                   StandardScaler())]),\n",
       "                                                  Index(['ANO_LAN', 'DORM_UNID', 'BANH_UNID', 'GAR_UNID', 'ELEV', 'COB',\n",
       "       'BLOCOS', 'UNIDAND', 'ANDARES', 'AR_UT_UNID', 'AR_TT_UNID',\n",
       "       'AR_TT_TERR', 'TT_UNID', 'DORM_EMP', 'BANH_EMP', 'GAR_EMP', 'AU_EMP...\n",
       "      dtype='object')),\n",
       "                                                 ('preprocessamento categorico',\n",
       "                                                  Pipeline(steps=[('cat',\n",
       "                                                                   OneHotEncoder(handle_unknown='ignore'))]),\n",
       "                                                  Index(['TIPO_EMP', 'MES_LAN', 'DATA_ENT', 'DIST', 'SUBPREF', 'MUNICIPIO',\n",
       "       'TIPO_VIA', 'ZONA', 'SIST_FINAN', 'INCORPORAD', 'CONSTRUTOR',\n",
       "       'INCORPOR_A', 'CONSTRUT_A', 'REGIAO'],\n",
       "      dtype='object'))])),\n",
       "                ('regressao',\n",
       "                 RandomForestRegressor(max_features=0.3, n_estimators=10))])"
      ]
     },
     "execution_count": 208,
     "metadata": {},
     "output_type": "execute_result"
    }
   ],
   "source": [
    "model.fit(X_train, y_train)"
   ]
  },
  {
   "cell_type": "code",
   "execution_count": 209,
   "metadata": {},
   "outputs": [
    {
     "data": {
      "text/plain": [
       "0.8364072942714871"
      ]
     },
     "execution_count": 209,
     "metadata": {},
     "output_type": "execute_result"
    }
   ],
   "source": [
    "model.score(X_test, y_test)"
   ]
  },
  {
   "cell_type": "code",
   "execution_count": 210,
   "metadata": {},
   "outputs": [],
   "source": [
    "feature_importances = model[1][1].feature_importances_"
   ]
  },
  {
   "cell_type": "code",
   "execution_count": 211,
   "metadata": {},
   "outputs": [],
   "source": [
    "permutation_result = permutation_importance(model, X_test, y_test, n_repeats=30)"
   ]
  },
  {
   "cell_type": "code",
   "execution_count": 212,
   "metadata": {},
   "outputs": [],
   "source": [
    "df_importancia = pd.DataFrame({'column' : X_test.columns, 'importance': permutation_result.importances_mean})\n",
    "df_importancia.sort_values(by='importance', ascending=False, inplace=True)"
   ]
  },
  {
   "cell_type": "code",
   "execution_count": 213,
   "metadata": {},
   "outputs": [
    {
     "data": {
      "text/plain": [
       "Text(0.5, 0.98, 'Variáveis mais importantes no entendimento dos valores de residências vendidas')"
      ]
     },
     "execution_count": 213,
     "metadata": {},
     "output_type": "execute_result"
    },
    {
     "data": {
      "image/png": "[encoded data removed]",
      "text/plain": [
       "<Figure size 1200x800 with 1 Axes>"
      ]
     },
     "metadata": {},
     "output_type": "display_data"
    }
   ],
   "source": [
    "fig, axs = plt.subplots(figsize=(12,8), facecolor='white')\n",
    "ax = sns.barplot(x='column', y=\"importance\", data=df_importancia.nlargest(15, 'importance'))\n",
    "plt.xticks(rotation=90)\n",
    "plt.tight_layout()\n",
    "\n",
    "fig.suptitle('Variáveis mais importantes no entendimento dos valores de residências vendidas')"
   ]
  },
  {
   "attachments": {},
   "cell_type": "markdown",
   "metadata": {},
   "source": [
    "Conjunto 1: 0.65 (RandomF), 0.39 (RegressãoL)\n",
    "Conjunto IBGE: 0.53 (RandomF), 0.26 (RegressãoL)\n",
    "Conjunto 1_log: 0.69 (RandomF), 0.40 (RegressãoL)"
   ]
  },
  {
   "cell_type": "code",
   "execution_count": 214,
   "metadata": {},
   "outputs": [],
   "source": [
    "y_pred = model.predict(X_test)"
   ]
  },
  {
   "cell_type": "code",
   "execution_count": 215,
   "metadata": {},
   "outputs": [
    {
     "data": {
      "text/html": [
       "<div>\n",
       "<style scoped>\n",
       "    .dataframe tbody tr th:only-of-type {\n",
       "        vertical-align: middle;\n",
       "    }\n",
       "\n",
       "    .dataframe tbody tr th {\n",
       "        vertical-align: top;\n",
       "    }\n",
       "\n",
       "    .dataframe thead th {\n",
       "        text-align: right;\n",
       "    }\n",
       "</style>\n",
       "<table border=\"1\" class=\"dataframe\">\n",
       "  <thead>\n",
       "    <tr style=\"text-align: right;\">\n",
       "      <th></th>\n",
       "      <th>metric</th>\n",
       "      <th>valid</th>\n",
       "    </tr>\n",
       "  </thead>\n",
       "  <tbody>\n",
       "    <tr>\n",
       "      <th>0</th>\n",
       "      <td>RMSE</td>\n",
       "      <td>0.19</td>\n",
       "    </tr>\n",
       "    <tr>\n",
       "      <th>1</th>\n",
       "      <td>MAE</td>\n",
       "      <td>0.14</td>\n",
       "    </tr>\n",
       "    <tr>\n",
       "      <th>2</th>\n",
       "      <td>R^2</td>\n",
       "      <td>0.84</td>\n",
       "    </tr>\n",
       "    <tr>\n",
       "      <th>3</th>\n",
       "      <td>MAPE</td>\n",
       "      <td>0.02</td>\n",
       "    </tr>\n",
       "    <tr>\n",
       "      <th>4</th>\n",
       "      <td>Avg. target</td>\n",
       "      <td>8.54</td>\n",
       "    </tr>\n",
       "    <tr>\n",
       "      <th>5</th>\n",
       "      <td>Avg. Prediction</td>\n",
       "      <td>8.53</td>\n",
       "    </tr>\n",
       "  </tbody>\n",
       "</table>\n",
       "</div>"
      ],
      "text/plain": [
       "            metric  valid\n",
       "0             RMSE   0.19\n",
       "1              MAE   0.14\n",
       "2              R^2   0.84\n",
       "3             MAPE   0.02\n",
       "4      Avg. target   8.54\n",
       "5  Avg. Prediction   8.53"
      ]
     },
     "execution_count": 215,
     "metadata": {},
     "output_type": "execute_result"
    }
   ],
   "source": [
    "baseline_report = imprimir_metricas(y_test, y_pred)\n",
    "baseline_report"
   ]
  },
  {
   "cell_type": "code",
   "execution_count": null,
   "metadata": {},
   "outputs": [],
   "source": []
  }
 ],
 "metadata": {
  "kernelspec": {
   "display_name": "Python 3",
   "language": "python",
   "name": "python3"
  },
  "language_info": {
   "codemirror_mode": {
    "name": "ipython",
    "version": 3
   },
   "file_extension": ".py",
   "mimetype": "text/x-python",
   "name": "python",
   "nbconvert_exporter": "python",
   "pygments_lexer": "ipython3",
   "version": "3.10.10"
  },
  "orig_nbformat": 4,
  "vscode": {
   "interpreter": {
    "hash": "adf0493720704c1abaf9e3cbeb8fae33bce164851e3bac93058057e194572999"
   }
  }
 },
 "nbformat": 4,
 "nbformat_minor": 2
}
