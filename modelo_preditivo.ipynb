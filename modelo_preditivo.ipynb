{
 "cells": [
  {
   "cell_type": "code",
   "execution_count": 16,
   "metadata": {},
   "outputs": [],
   "source": [
    "import pandas as pd\n",
    "import numpy as np\n",
    "import math\n",
    "import statsmodels.formula.api as sm\n",
    "from sklearn.model_selection import train_test_split\n",
    "from sklearn.compose import ColumnTransformer\n",
    "from sklearn.linear_model import LinearRegression\n",
    "from sklearn.ensemble import RandomForestRegressor\n",
    "from sklearn.metrics import mean_squared_error, r2_score, mean_absolute_error, mean_absolute_percentage_error\n",
    "from sklearn.pipeline import Pipeline\n",
    "from sklearn.preprocessing import OneHotEncoder, LabelEncoder\n",
    "from sklearn.impute import SimpleImputer\n",
    "from sklearn.preprocessing import StandardScaler\n",
    "from sklearn.inspection import permutation_importance\n",
    "import seaborn as sns\n",
    "import matplotlib.pyplot as plt"
   ]
  },
  {
   "cell_type": "code",
   "execution_count": 17,
   "metadata": {},
   "outputs": [],
   "source": [
    "# Display Pipeline\n",
    "from sklearn import set_config\n",
    "set_config(display='diagram')\n"
   ]
  },
  {
   "cell_type": "code",
   "execution_count": 18,
   "metadata": {},
   "outputs": [],
   "source": [
    "#FUNÇÃO PARA EXIBIS AS MÉTRICAS DO MODELO\n",
    "def imprimir_metricas (y, y_pred, dataset_name='valid'):\n",
    "  mean_y = np.mean(y)\n",
    "  mean_pred = np.mean(y_pred)\n",
    "\n",
    "  rmse = round(math.sqrt(mean_squared_error(y, y_pred)), 2)\n",
    "  mae = mean_absolute_error(y, y_pred)\n",
    "  r2 = r2_score(y, y_pred)\n",
    "  mape = mean_absolute_percentage_error(y, y_pred)\n",
    "  \n",
    "  report = pd.DataFrame({\n",
    "    'metric': ['RMSE', 'MAE', 'R^2', 'MAPE', 'Avg. target', 'Avg. Prediction'],\n",
    "    dataset_name: [rmse, mae, r2, mape, mean_y, mean_pred]\n",
    "  })\n",
    "\n",
    "  report[dataset_name] = report[dataset_name].round(2)\n",
    "  return report"
   ]
  },
  {
   "attachments": {},
   "cell_type": "markdown",
   "metadata": {},
   "source": [
    "<h2> 1. Lendo a base </h2>"
   ]
  },
  {
   "cell_type": "code",
   "execution_count": 19,
   "metadata": {},
   "outputs": [],
   "source": [
    "df = pd.read_csv('Base_EMBRAESP_trabalhada.csv')\n",
    "#df = df.drop(['MES_LAN', 'AGENTE', 'DATA_ENT', 'ZONA'], axis=1)"
   ]
  },
  {
   "cell_type": "code",
   "execution_count": 20,
   "metadata": {},
   "outputs": [
    {
     "data": {
      "text/plain": [
       "Index(['Unnamed: 0.1', 'ID', 'TIPO_EMP', 'MES_LAN', 'ANO_LAN', 'DATA_ENT',\n",
       "       'DIST', 'SUBPREF', 'MUNICIPIO', 'TIPO_VIA', 'ZONA', 'DORM_UNID',\n",
       "       'BANH_UNID', 'GAR_UNID', 'ELEV', 'COB', 'BLOCOS', 'UNIDAND', 'ANDARES',\n",
       "       'AR_UT_UNID', 'AR_TT_UNID', 'AR_TT_TERR', 'TT_UNID', 'DORM_EMP',\n",
       "       'BANH_EMP', 'GAR_EMP', 'AU_EMP', 'AT_EMP', 'PC_TT_UN', 'PC_M2_AU',\n",
       "       'PC_M2_AT', 'PC_TT_ATU', 'PC_AU_ATU', 'PC_AT_ATU', 'PC_EMP_ATU',\n",
       "       'VLR_US__CO', 'PC_TT_UN_U', 'PC_M2_AU_U', 'PC_M2_AT_U', 'SIST_FINAN',\n",
       "       'AGENTE', 'INCORPORAD', 'CONSTRUTOR', 'INCORPOR_A', 'CONSTRUT_A',\n",
       "       'COOPERATIV', 'HOTEL', 'FLAT', 'EXFLAT', 'AP2010', 'SC_2010',\n",
       "       'RENRESP91', 'RENRESP00', 'RENRESP10', 'PCMEDAU91', 'PCMEDAU00',\n",
       "       'PCMEDAU10', 'BANH_DORM', 'Unnamed: 0', 'Domicílios_Setor',\n",
       "       'Média_Moradores_por_domicilio_setor', 'Média_Renda_Responsaveis_Setor',\n",
       "       'Domicilios no setor censitário', 'Domicilios alugados',\n",
       "       'Domicilios unipessoais', 'Domicilios 2 ou 3 moradores',\n",
       "       'Domicilios 4 ou mais moradores', 'Residentes no setor censitário',\n",
       "       'Brancos', 'Pretos', 'Amarelos', 'Pardos', 'Índigenas',\n",
       "       'Total de filhos dos responsáveis de domicílios', 'PERC_ALUGADOS',\n",
       "       'PERC_UNIPESSOAIS', 'PERC_2_3_MORADORES', 'PERC_4_MAIS_MORADORES',\n",
       "       'PERC_BRANCOS', 'PERC_PPI', 'PC_TT_UN_log', 'PC_M2_AU_log',\n",
       "       'PC_M2_AT_log', 'VLR_US__CO_log', 'PCMEDAU10_log', 'PC_AU_ATU_log',\n",
       "       'REGIAO'],\n",
       "      dtype='object')"
      ]
     },
     "execution_count": 20,
     "metadata": {},
     "output_type": "execute_result"
    }
   ],
   "source": [
    "df.columns"
   ]
  },
  {
   "cell_type": "code",
   "execution_count": 21,
   "metadata": {},
   "outputs": [],
   "source": [
    "df.columns\n",
    "df = df.drop(['Unnamed: 0.1', 'Unnamed: 0','RENRESP91', 'PCMEDAU00',\n",
    "       'PCMEDAU10', 'RENRESP00', 'ID', 'AGENTE', 'PC_TT_UN', 'PC_M2_AU', 'PC_M2_AT', 'PC_TT_ATU', 'PC_AT_ATU', 'PC_EMP_ATU',\n",
    "       'VLR_US__CO', 'PC_TT_UN_U', 'PC_M2_AU_U', 'PC_M2_AT_U', 'PC_TT_UN_log', 'PC_M2_AT_log', 'VLR_US__CO_log', 'PCMEDAU10_log', 'PCMEDAU91', 'PC_M2_AU_log'], axis=1)\n",
    "\n",
    "df['AR_UT_UNID_log'] = np.log(df['AR_UT_UNID'])\n",
    "df['RENRESP10_log'] = np.log(df['RENRESP10'])"
   ]
  },
  {
   "attachments": {},
   "cell_type": "markdown",
   "metadata": {},
   "source": [
    "<h3>1.1 Definindo as variáveis que estarão presentes no modelo</h3>"
   ]
  },
  {
   "cell_type": "code",
   "execution_count": 22,
   "metadata": {},
   "outputs": [],
   "source": [
    "target = 'PC_AU_ATU_log'\n",
    "numericas = ['ANO_LAN', 'DORM_UNID', 'BANH_DORM', 'AR_UT_UNID']\n",
    "categoricas = ['REGIAO', 'TIPO_EMP']\n",
    "features = numericas + categoricas\n",
    "#['', 'ANO_LAN', 'DORM_UNID', 'BANH_UNID', 'GAR_UNID']\n",
    "v_ibge = ['Total de filhos dos responsáveis de domicílios', 'PERC_ALUGADOS',\n",
    "       'PERC_UNIPESSOAIS', 'PERC_2_3_MORADORES', 'PERC_BRANCOS', 'PERC_PPI']\n",
    "\n",
    "numericas2 = df.select_dtypes(['int', 'float']).columns\n",
    "numericas2 = numericas2.drop(['PC_AU_ATU_log', 'PC_AU_ATU'])\n",
    "categoricas2 = df.select_dtypes(['object', 'string']).columns\n"
   ]
  },
  {
   "cell_type": "code",
   "execution_count": 23,
   "metadata": {},
   "outputs": [],
   "source": [
    "for col in categoricas2:\n",
    "    df[col] = df[col].fillna(df[col].mode())\n",
    "\n",
    "#df['REGIAO'] = df['REGIAO'].fillna(df['REGIAO'].mode())"
   ]
  },
  {
   "cell_type": "code",
   "execution_count": 24,
   "metadata": {},
   "outputs": [
    {
     "name": "stdout",
     "output_type": "stream",
     "text": [
      "<class 'pandas.core.frame.DataFrame'>\n",
      "RangeIndex: 16935 entries, 0 to 16934\n",
      "Data columns (total 14 columns):\n",
      " #   Column      Non-Null Count  Dtype \n",
      "---  ------      --------------  ----- \n",
      " 0   TIPO_EMP    16935 non-null  object\n",
      " 1   MES_LAN     16935 non-null  object\n",
      " 2   DATA_ENT    16935 non-null  object\n",
      " 3   DIST        16935 non-null  object\n",
      " 4   SUBPREF     16935 non-null  object\n",
      " 5   MUNICIPIO   16935 non-null  object\n",
      " 6   TIPO_VIA    16929 non-null  object\n",
      " 7   ZONA        16935 non-null  object\n",
      " 8   SIST_FINAN  16935 non-null  object\n",
      " 9   INCORPORAD  16935 non-null  object\n",
      " 10  CONSTRUTOR  16935 non-null  object\n",
      " 11  INCORPOR_A  16935 non-null  object\n",
      " 12  CONSTRUT_A  16935 non-null  object\n",
      " 13  REGIAO      16804 non-null  object\n",
      "dtypes: object(14)\n",
      "memory usage: 1.8+ MB\n"
     ]
    }
   ],
   "source": [
    "df[categoricas2].info()"
   ]
  },
  {
   "attachments": {},
   "cell_type": "markdown",
   "metadata": {},
   "source": [
    "<h2>2. Fazendo os modelos de regressão </h2>"
   ]
  },
  {
   "cell_type": "code",
   "execution_count": 25,
   "metadata": {},
   "outputs": [],
   "source": [
    "X_train, X_test, y_train, y_test = train_test_split(df.drop(target, axis=1), df[target], test_size=0.2)"
   ]
  },
  {
   "attachments": {},
   "cell_type": "markdown",
   "metadata": {},
   "source": [
    "<h3>2.1 Modelo de regressão linear </h3>\n",
    "O modelo de regressão linear permite maior interpretabilidade das variáveis e da constituição do preço dos empreendimentos lançados. Contém alguma perda de performance em relação aos modelos mais avançados, como ensembles de Random Forest, mas são mais facilmente lidos."
   ]
  },
  {
   "attachments": {},
   "cell_type": "markdown",
   "metadata": {},
   "source": [
    "<h3>2.1.1 - Criando o baseline</h3>\n",
    "<>No modelo baseline foram consideradas variáveis que são intuitivamente conhecidas na descrição de um empreendimento imobiliário, como o número de dormitórios, o número de banheiros e a área do apartamento. <>"
   ]
  },
  {
   "cell_type": "code",
   "execution_count": 26,
   "metadata": {},
   "outputs": [
    {
     "data": {
      "text/html": [
       "<table class=\"simpletable\">\n",
       "<caption>OLS Regression Results</caption>\n",
       "<tr>\n",
       "  <th>Dep. Variable:</th>        <td>PC_AU_ATU</td>    <th>  R-squared:         </th>  <td>   0.160</td>  \n",
       "</tr>\n",
       "<tr>\n",
       "  <th>Model:</th>                   <td>OLS</td>       <th>  Adj. R-squared:    </th>  <td>   0.160</td>  \n",
       "</tr>\n",
       "<tr>\n",
       "  <th>Method:</th>             <td>Least Squares</td>  <th>  F-statistic:       </th>  <td>   861.4</td>  \n",
       "</tr>\n",
       "<tr>\n",
       "  <th>Date:</th>             <td>Fri, 17 Mar 2023</td> <th>  Prob (F-statistic):</th>   <td>  0.00</td>   \n",
       "</tr>\n",
       "<tr>\n",
       "  <th>Time:</th>                 <td>21:11:31</td>     <th>  Log-Likelihood:    </th> <td>-1.2621e+05</td>\n",
       "</tr>\n",
       "<tr>\n",
       "  <th>No. Observations:</th>      <td> 13548</td>      <th>  AIC:               </th>  <td>2.524e+05</td> \n",
       "</tr>\n",
       "<tr>\n",
       "  <th>Df Residuals:</th>          <td> 13544</td>      <th>  BIC:               </th>  <td>2.525e+05</td> \n",
       "</tr>\n",
       "<tr>\n",
       "  <th>Df Model:</th>              <td>     3</td>      <th>                     </th>      <td> </td>     \n",
       "</tr>\n",
       "<tr>\n",
       "  <th>Covariance Type:</th>      <td>nonrobust</td>    <th>                     </th>      <td> </td>     \n",
       "</tr>\n",
       "</table>\n",
       "<table class=\"simpletable\">\n",
       "<tr>\n",
       "       <td></td>         <th>coef</th>     <th>std err</th>      <th>t</th>      <th>P>|t|</th>  <th>[0.025</th>    <th>0.975]</th>  \n",
       "</tr>\n",
       "<tr>\n",
       "  <th>Intercept</th>  <td> 6100.5209</td> <td>   79.401</td> <td>   76.832</td> <td> 0.000</td> <td> 5944.884</td> <td> 6256.158</td>\n",
       "</tr>\n",
       "<tr>\n",
       "  <th>DORM_UNID</th>  <td>-1654.7056</td> <td>   45.141</td> <td>  -36.656</td> <td> 0.000</td> <td>-1743.188</td> <td>-1566.223</td>\n",
       "</tr>\n",
       "<tr>\n",
       "  <th>BANH_UNID</th>  <td> 1143.9534</td> <td>   56.138</td> <td>   20.377</td> <td> 0.000</td> <td> 1033.915</td> <td> 1253.992</td>\n",
       "</tr>\n",
       "<tr>\n",
       "  <th>AR_UT_UNID</th> <td>   17.8855</td> <td>    0.811</td> <td>   22.051</td> <td> 0.000</td> <td>   16.296</td> <td>   19.475</td>\n",
       "</tr>\n",
       "</table>\n",
       "<table class=\"simpletable\">\n",
       "<tr>\n",
       "  <th>Omnibus:</th>       <td>6155.763</td> <th>  Durbin-Watson:     </th> <td>   1.972</td> \n",
       "</tr>\n",
       "<tr>\n",
       "  <th>Prob(Omnibus):</th>  <td> 0.000</td>  <th>  Jarque-Bera (JB):  </th> <td>54033.352</td>\n",
       "</tr>\n",
       "<tr>\n",
       "  <th>Skew:</th>           <td> 1.975</td>  <th>  Prob(JB):          </th> <td>    0.00</td> \n",
       "</tr>\n",
       "<tr>\n",
       "  <th>Kurtosis:</th>       <td>11.951</td>  <th>  Cond. No.          </th> <td>    426.</td> \n",
       "</tr>\n",
       "</table><br/><br/>Notes:<br/>[1] Standard Errors assume that the covariance matrix of the errors is correctly specified."
      ],
      "text/plain": [
       "<class 'statsmodels.iolib.summary.Summary'>\n",
       "\"\"\"\n",
       "                            OLS Regression Results                            \n",
       "==============================================================================\n",
       "Dep. Variable:              PC_AU_ATU   R-squared:                       0.160\n",
       "Model:                            OLS   Adj. R-squared:                  0.160\n",
       "Method:                 Least Squares   F-statistic:                     861.4\n",
       "Date:                Fri, 17 Mar 2023   Prob (F-statistic):               0.00\n",
       "Time:                        21:11:31   Log-Likelihood:            -1.2621e+05\n",
       "No. Observations:               13548   AIC:                         2.524e+05\n",
       "Df Residuals:                   13544   BIC:                         2.525e+05\n",
       "Df Model:                           3                                         \n",
       "Covariance Type:            nonrobust                                         \n",
       "==============================================================================\n",
       "                 coef    std err          t      P>|t|      [0.025      0.975]\n",
       "------------------------------------------------------------------------------\n",
       "Intercept   6100.5209     79.401     76.832      0.000    5944.884    6256.158\n",
       "DORM_UNID  -1654.7056     45.141    -36.656      0.000   -1743.188   -1566.223\n",
       "BANH_UNID   1143.9534     56.138     20.377      0.000    1033.915    1253.992\n",
       "AR_UT_UNID    17.8855      0.811     22.051      0.000      16.296      19.475\n",
       "==============================================================================\n",
       "Omnibus:                     6155.763   Durbin-Watson:                   1.972\n",
       "Prob(Omnibus):                  0.000   Jarque-Bera (JB):            54033.352\n",
       "Skew:                           1.975   Prob(JB):                         0.00\n",
       "Kurtosis:                      11.951   Cond. No.                         426.\n",
       "==============================================================================\n",
       "\n",
       "Notes:\n",
       "[1] Standard Errors assume that the covariance matrix of the errors is correctly specified.\n",
       "\"\"\""
      ]
     },
     "execution_count": 26,
     "metadata": {},
     "output_type": "execute_result"
    }
   ],
   "source": [
    "rl_baseline = sm.ols(formula='PC_AU_ATU ~ DORM_UNID + BANH_UNID + AR_UT_UNID', data=df.iloc[X_train.index,:]).fit()\n",
    "rl_baseline_log = sm.ols(formula='PC_AU_ATU_log ~ DORM_UNID + BANH_UNID + AR_UT_UNID', data=df.iloc[X_train.index,:]).fit()\n",
    "\n",
    "rl_baseline.summary()"
   ]
  },
  {
   "attachments": {},
   "cell_type": "markdown",
   "metadata": {},
   "source": [
    "Percebe-se que as variáveis relacionadas apenas ao apartamento não explicam bem, sozinhas, a variação do preço da área útil. O grau de explicabilidade das variáveis se mantém abaixo dos 20% para o caso da variável resposta em forma absoluta e logarítimica. \n",
    "\n",
    "O estudo sobre a dinâmica imobiliária no mercado de São Paulo leva ao entendimento de que duas variáveis são cruciais para o entendimento do preço das unidades: O local do empreendimento e o ano de lançamento. O local do empreendimento importa porque uma cidade desigual como São Paulo contém uma alta variabilidade no preço da terra, que se reflete diretamente nos valores de compra e venda de aluguéis dos imóveis; o ano de lançamento mantém relações com a macroeconomia, no sentido de que embora a demanda por moradia sempre seja alta, em anos de boom econômico a oferta e a disponibilidade de renda crescem exponencialmente. \n",
    "A seguir, essas duas variáveis são inseridas no modelo da resposta logarítimica do preço da área útil da unidade. "
   ]
  },
  {
   "cell_type": "code",
   "execution_count": 27,
   "metadata": {},
   "outputs": [
    {
     "data": {
      "text/html": [
       "<table class=\"simpletable\">\n",
       "<caption>OLS Regression Results</caption>\n",
       "<tr>\n",
       "  <th>Dep. Variable:</th>      <td>PC_AU_ATU_log</td>  <th>  R-squared:         </th> <td>   0.404</td> \n",
       "</tr>\n",
       "<tr>\n",
       "  <th>Model:</th>                   <td>OLS</td>       <th>  Adj. R-squared:    </th> <td>   0.404</td> \n",
       "</tr>\n",
       "<tr>\n",
       "  <th>Method:</th>             <td>Least Squares</td>  <th>  F-statistic:       </th> <td>   701.4</td> \n",
       "</tr>\n",
       "<tr>\n",
       "  <th>Date:</th>             <td>Fri, 17 Mar 2023</td> <th>  Prob (F-statistic):</th>  <td>  0.00</td>  \n",
       "</tr>\n",
       "<tr>\n",
       "  <th>Time:</th>                 <td>21:11:31</td>     <th>  Log-Likelihood:    </th> <td> -5417.8</td> \n",
       "</tr>\n",
       "<tr>\n",
       "  <th>No. Observations:</th>      <td> 13439</td>      <th>  AIC:               </th> <td>1.086e+04</td>\n",
       "</tr>\n",
       "<tr>\n",
       "  <th>Df Residuals:</th>          <td> 13425</td>      <th>  BIC:               </th> <td>1.097e+04</td>\n",
       "</tr>\n",
       "<tr>\n",
       "  <th>Df Model:</th>              <td>    13</td>      <th>                     </th>     <td> </td>    \n",
       "</tr>\n",
       "<tr>\n",
       "  <th>Covariance Type:</th>      <td>nonrobust</td>    <th>                     </th>     <td> </td>    \n",
       "</tr>\n",
       "</table>\n",
       "<table class=\"simpletable\">\n",
       "<tr>\n",
       "            <td></td>              <th>coef</th>     <th>std err</th>      <th>t</th>      <th>P>|t|</th>  <th>[0.025</th>    <th>0.975]</th>  \n",
       "</tr>\n",
       "<tr>\n",
       "  <th>Intercept</th>            <td>   19.3022</td> <td>    0.801</td> <td>   24.098</td> <td> 0.000</td> <td>   17.732</td> <td>   20.872</td>\n",
       "</tr>\n",
       "<tr>\n",
       "  <th>REGIAO[T.Centro-Sul]</th> <td>   -0.0053</td> <td>    0.017</td> <td>   -0.320</td> <td> 0.749</td> <td>   -0.038</td> <td>    0.027</td>\n",
       "</tr>\n",
       "<tr>\n",
       "  <th>REGIAO[T.Leste 1]</th>    <td>   -0.5466</td> <td>    0.020</td> <td>  -28.007</td> <td> 0.000</td> <td>   -0.585</td> <td>   -0.508</td>\n",
       "</tr>\n",
       "<tr>\n",
       "  <th>REGIAO[T.Leste 2]</th>    <td>   -0.6851</td> <td>    0.033</td> <td>  -20.852</td> <td> 0.000</td> <td>   -0.749</td> <td>   -0.621</td>\n",
       "</tr>\n",
       "<tr>\n",
       "  <th>REGIAO[T.Nordeste]</th>   <td>   -0.2928</td> <td>    0.019</td> <td>  -15.725</td> <td> 0.000</td> <td>   -0.329</td> <td>   -0.256</td>\n",
       "</tr>\n",
       "<tr>\n",
       "  <th>REGIAO[T.Noroeste]</th>   <td>   -0.5288</td> <td>    0.031</td> <td>  -17.253</td> <td> 0.000</td> <td>   -0.589</td> <td>   -0.469</td>\n",
       "</tr>\n",
       "<tr>\n",
       "  <th>REGIAO[T.Oeste]</th>      <td>   -0.0017</td> <td>    0.016</td> <td>   -0.104</td> <td> 0.917</td> <td>   -0.034</td> <td>    0.030</td>\n",
       "</tr>\n",
       "<tr>\n",
       "  <th>REGIAO[T.RMSP]</th>       <td>   -0.5074</td> <td>    0.016</td> <td>  -31.196</td> <td> 0.000</td> <td>   -0.539</td> <td>   -0.476</td>\n",
       "</tr>\n",
       "<tr>\n",
       "  <th>REGIAO[T.Sudeste]</th>    <td>   -0.2736</td> <td>    0.017</td> <td>  -16.065</td> <td> 0.000</td> <td>   -0.307</td> <td>   -0.240</td>\n",
       "</tr>\n",
       "<tr>\n",
       "  <th>REGIAO[T.Sul]</th>        <td>   -0.3061</td> <td>    0.019</td> <td>  -15.940</td> <td> 0.000</td> <td>   -0.344</td> <td>   -0.268</td>\n",
       "</tr>\n",
       "<tr>\n",
       "  <th>ANO_LAN</th>              <td>   -0.0053</td> <td>    0.000</td> <td>  -13.147</td> <td> 0.000</td> <td>   -0.006</td> <td>   -0.004</td>\n",
       "</tr>\n",
       "<tr>\n",
       "  <th>DORM_UNID</th>            <td>   -0.1769</td> <td>    0.006</td> <td>  -28.189</td> <td> 0.000</td> <td>   -0.189</td> <td>   -0.165</td>\n",
       "</tr>\n",
       "<tr>\n",
       "  <th>BANH_UNID</th>            <td>    0.2157</td> <td>    0.008</td> <td>   27.341</td> <td> 0.000</td> <td>    0.200</td> <td>    0.231</td>\n",
       "</tr>\n",
       "<tr>\n",
       "  <th>AR_UT_UNID</th>           <td>    0.0006</td> <td>    0.000</td> <td>    4.966</td> <td> 0.000</td> <td>    0.000</td> <td>    0.001</td>\n",
       "</tr>\n",
       "</table>\n",
       "<table class=\"simpletable\">\n",
       "<tr>\n",
       "  <th>Omnibus:</th>       <td>117.605</td> <th>  Durbin-Watson:     </th> <td>   1.982</td>\n",
       "</tr>\n",
       "<tr>\n",
       "  <th>Prob(Omnibus):</th> <td> 0.000</td>  <th>  Jarque-Bera (JB):  </th> <td> 163.276</td>\n",
       "</tr>\n",
       "<tr>\n",
       "  <th>Skew:</th>          <td> 0.114</td>  <th>  Prob(JB):          </th> <td>3.51e-36</td>\n",
       "</tr>\n",
       "<tr>\n",
       "  <th>Kurtosis:</th>      <td> 3.489</td>  <th>  Cond. No.          </th> <td>5.14e+05</td>\n",
       "</tr>\n",
       "</table><br/><br/>Notes:<br/>[1] Standard Errors assume that the covariance matrix of the errors is correctly specified.<br/>[2] The condition number is large, 5.14e+05. This might indicate that there are<br/>strong multicollinearity or other numerical problems."
      ],
      "text/plain": [
       "<class 'statsmodels.iolib.summary.Summary'>\n",
       "\"\"\"\n",
       "                            OLS Regression Results                            \n",
       "==============================================================================\n",
       "Dep. Variable:          PC_AU_ATU_log   R-squared:                       0.404\n",
       "Model:                            OLS   Adj. R-squared:                  0.404\n",
       "Method:                 Least Squares   F-statistic:                     701.4\n",
       "Date:                Fri, 17 Mar 2023   Prob (F-statistic):               0.00\n",
       "Time:                        21:11:31   Log-Likelihood:                -5417.8\n",
       "No. Observations:               13439   AIC:                         1.086e+04\n",
       "Df Residuals:                   13425   BIC:                         1.097e+04\n",
       "Df Model:                          13                                         \n",
       "Covariance Type:            nonrobust                                         \n",
       "========================================================================================\n",
       "                           coef    std err          t      P>|t|      [0.025      0.975]\n",
       "----------------------------------------------------------------------------------------\n",
       "Intercept               19.3022      0.801     24.098      0.000      17.732      20.872\n",
       "REGIAO[T.Centro-Sul]    -0.0053      0.017     -0.320      0.749      -0.038       0.027\n",
       "REGIAO[T.Leste 1]       -0.5466      0.020    -28.007      0.000      -0.585      -0.508\n",
       "REGIAO[T.Leste 2]       -0.6851      0.033    -20.852      0.000      -0.749      -0.621\n",
       "REGIAO[T.Nordeste]      -0.2928      0.019    -15.725      0.000      -0.329      -0.256\n",
       "REGIAO[T.Noroeste]      -0.5288      0.031    -17.253      0.000      -0.589      -0.469\n",
       "REGIAO[T.Oeste]         -0.0017      0.016     -0.104      0.917      -0.034       0.030\n",
       "REGIAO[T.RMSP]          -0.5074      0.016    -31.196      0.000      -0.539      -0.476\n",
       "REGIAO[T.Sudeste]       -0.2736      0.017    -16.065      0.000      -0.307      -0.240\n",
       "REGIAO[T.Sul]           -0.3061      0.019    -15.940      0.000      -0.344      -0.268\n",
       "ANO_LAN                 -0.0053      0.000    -13.147      0.000      -0.006      -0.004\n",
       "DORM_UNID               -0.1769      0.006    -28.189      0.000      -0.189      -0.165\n",
       "BANH_UNID                0.2157      0.008     27.341      0.000       0.200       0.231\n",
       "AR_UT_UNID               0.0006      0.000      4.966      0.000       0.000       0.001\n",
       "==============================================================================\n",
       "Omnibus:                      117.605   Durbin-Watson:                   1.982\n",
       "Prob(Omnibus):                  0.000   Jarque-Bera (JB):              163.276\n",
       "Skew:                           0.114   Prob(JB):                     3.51e-36\n",
       "Kurtosis:                       3.489   Cond. No.                     5.14e+05\n",
       "==============================================================================\n",
       "\n",
       "Notes:\n",
       "[1] Standard Errors assume that the covariance matrix of the errors is correctly specified.\n",
       "[2] The condition number is large, 5.14e+05. This might indicate that there are\n",
       "strong multicollinearity or other numerical problems.\n",
       "\"\"\""
      ]
     },
     "execution_count": 27,
     "metadata": {},
     "output_type": "execute_result"
    }
   ],
   "source": [
    "regressao_au_log = sm.ols(formula='PC_AU_ATU_log ~ REGIAO + ANO_LAN + DORM_UNID + BANH_UNID + AR_UT_UNID', data=df.iloc[X_train.index,:]).fit()\n",
    "regressao_au_log.summary()"
   ]
  },
  {
   "attachments": {},
   "cell_type": "markdown",
   "metadata": {},
   "source": [
    "ESCREVER"
   ]
  },
  {
   "cell_type": "code",
   "execution_count": 56,
   "metadata": {},
   "outputs": [
    {
     "data": {
      "text/html": [
       "<table class=\"simpletable\">\n",
       "<caption>OLS Regression Results</caption>\n",
       "<tr>\n",
       "  <th>Dep. Variable:</th>      <td>PC_AU_ATU_log</td>  <th>  R-squared:         </th> <td>   0.545</td>\n",
       "</tr>\n",
       "<tr>\n",
       "  <th>Model:</th>                   <td>OLS</td>       <th>  Adj. R-squared:    </th> <td>   0.545</td>\n",
       "</tr>\n",
       "<tr>\n",
       "  <th>Method:</th>             <td>Least Squares</td>  <th>  F-statistic:       </th> <td>   643.9</td>\n",
       "</tr>\n",
       "<tr>\n",
       "  <th>Date:</th>             <td>Fri, 17 Mar 2023</td> <th>  Prob (F-statistic):</th>  <td>  0.00</td> \n",
       "</tr>\n",
       "<tr>\n",
       "  <th>Time:</th>                 <td>21:22:37</td>     <th>  Log-Likelihood:    </th> <td> -3602.2</td>\n",
       "</tr>\n",
       "<tr>\n",
       "  <th>No. Observations:</th>      <td> 13439</td>      <th>  AIC:               </th> <td>   7256.</td>\n",
       "</tr>\n",
       "<tr>\n",
       "  <th>Df Residuals:</th>          <td> 13413</td>      <th>  BIC:               </th> <td>   7452.</td>\n",
       "</tr>\n",
       "<tr>\n",
       "  <th>Df Model:</th>              <td>    25</td>      <th>                     </th>     <td> </td>   \n",
       "</tr>\n",
       "<tr>\n",
       "  <th>Covariance Type:</th>      <td>nonrobust</td>    <th>                     </th>     <td> </td>   \n",
       "</tr>\n",
       "</table>\n",
       "<table class=\"simpletable\">\n",
       "<tr>\n",
       "               <td></td>                  <th>coef</th>     <th>std err</th>      <th>t</th>      <th>P>|t|</th>  <th>[0.025</th>    <th>0.975]</th>  \n",
       "</tr>\n",
       "<tr>\n",
       "  <th>Intercept</th>                   <td>    7.9403</td> <td>    0.040</td> <td>  199.733</td> <td> 0.000</td> <td>    7.862</td> <td>    8.018</td>\n",
       "</tr>\n",
       "<tr>\n",
       "  <th>REGIAO[T.Centro-Sul]</th>        <td>   -0.0936</td> <td>    0.015</td> <td>   -6.280</td> <td> 0.000</td> <td>   -0.123</td> <td>   -0.064</td>\n",
       "</tr>\n",
       "<tr>\n",
       "  <th>REGIAO[T.Leste 1]</th>           <td>   -0.1878</td> <td>    0.018</td> <td>  -10.410</td> <td> 0.000</td> <td>   -0.223</td> <td>   -0.152</td>\n",
       "</tr>\n",
       "<tr>\n",
       "  <th>REGIAO[T.Leste 2]</th>           <td>   -0.2984</td> <td>    0.030</td> <td>  -10.110</td> <td> 0.000</td> <td>   -0.356</td> <td>   -0.241</td>\n",
       "</tr>\n",
       "<tr>\n",
       "  <th>REGIAO[T.Nordeste]</th>          <td>   -0.1074</td> <td>    0.017</td> <td>   -6.481</td> <td> 0.000</td> <td>   -0.140</td> <td>   -0.075</td>\n",
       "</tr>\n",
       "<tr>\n",
       "  <th>REGIAO[T.Noroeste]</th>          <td>   -0.2252</td> <td>    0.027</td> <td>   -8.217</td> <td> 0.000</td> <td>   -0.279</td> <td>   -0.171</td>\n",
       "</tr>\n",
       "<tr>\n",
       "  <th>REGIAO[T.Oeste]</th>             <td>   -0.0938</td> <td>    0.015</td> <td>   -6.417</td> <td> 0.000</td> <td>   -0.122</td> <td>   -0.065</td>\n",
       "</tr>\n",
       "<tr>\n",
       "  <th>REGIAO[T.RMSP]</th>              <td>   -0.3129</td> <td>    0.015</td> <td>  -21.371</td> <td> 0.000</td> <td>   -0.342</td> <td>   -0.284</td>\n",
       "</tr>\n",
       "<tr>\n",
       "  <th>REGIAO[T.Sudeste]</th>           <td>   -0.1325</td> <td>    0.015</td> <td>   -8.771</td> <td> 0.000</td> <td>   -0.162</td> <td>   -0.103</td>\n",
       "</tr>\n",
       "<tr>\n",
       "  <th>REGIAO[T.Sul]</th>               <td>   -0.2766</td> <td>    0.017</td> <td>  -16.326</td> <td> 0.000</td> <td>   -0.310</td> <td>   -0.243</td>\n",
       "</tr>\n",
       "<tr>\n",
       "  <th>TIPO_EMP[T.VERTIC]</th>          <td>    0.3033</td> <td>    0.009</td> <td>   33.110</td> <td> 0.000</td> <td>    0.285</td> <td>    0.321</td>\n",
       "</tr>\n",
       "<tr>\n",
       "  <th>INCORPORAD[T.ENCOL]</th>         <td>    0.1532</td> <td>    0.045</td> <td>    3.393</td> <td> 0.001</td> <td>    0.065</td> <td>    0.242</td>\n",
       "</tr>\n",
       "<tr>\n",
       "  <th>INCORPORAD[T.EVEN]</th>          <td>    0.0108</td> <td>    0.040</td> <td>    0.273</td> <td> 0.785</td> <td>   -0.067</td> <td>    0.089</td>\n",
       "</tr>\n",
       "<tr>\n",
       "  <th>INCORPORAD[T.GAFISA]</th>        <td>   -0.0098</td> <td>    0.037</td> <td>   -0.263</td> <td> 0.793</td> <td>   -0.083</td> <td>    0.063</td>\n",
       "</tr>\n",
       "<tr>\n",
       "  <th>INCORPORAD[T.GOLDFARB]</th>      <td>   -0.2379</td> <td>    0.040</td> <td>   -5.949</td> <td> 0.000</td> <td>   -0.316</td> <td>   -0.160</td>\n",
       "</tr>\n",
       "<tr>\n",
       "  <th>INCORPORAD[T.MRV]</th>           <td>   -0.4024</td> <td>    0.041</td> <td>   -9.721</td> <td> 0.000</td> <td>   -0.484</td> <td>   -0.321</td>\n",
       "</tr>\n",
       "<tr>\n",
       "  <th>INCORPORAD[T.NAO INFORMADA]</th> <td>   -0.1225</td> <td>    0.037</td> <td>   -3.302</td> <td> 0.001</td> <td>   -0.195</td> <td>   -0.050</td>\n",
       "</tr>\n",
       "<tr>\n",
       "  <th>INCORPORAD[T.OUTRA]</th>         <td>   -0.0824</td> <td>    0.033</td> <td>   -2.520</td> <td> 0.012</td> <td>   -0.147</td> <td>   -0.018</td>\n",
       "</tr>\n",
       "<tr>\n",
       "  <th>INCORPORAD[T.PLANO MELHOR]</th>  <td>   -0.1748</td> <td>    0.048</td> <td>   -3.629</td> <td> 0.000</td> <td>   -0.269</td> <td>   -0.080</td>\n",
       "</tr>\n",
       "<tr>\n",
       "  <th>INCORPORAD[T.ROSSI]</th>         <td>   -0.1042</td> <td>    0.040</td> <td>   -2.606</td> <td> 0.009</td> <td>   -0.183</td> <td>   -0.026</td>\n",
       "</tr>\n",
       "<tr>\n",
       "  <th>INCORPORAD[T.TECNISA]</th>       <td>   -0.0572</td> <td>    0.039</td> <td>   -1.479</td> <td> 0.139</td> <td>   -0.133</td> <td>    0.019</td>\n",
       "</tr>\n",
       "<tr>\n",
       "  <th>INCORPORAD[T.TENDA]</th>         <td>   -0.3552</td> <td>    0.045</td> <td>   -7.962</td> <td> 0.000</td> <td>   -0.443</td> <td>   -0.268</td>\n",
       "</tr>\n",
       "<tr>\n",
       "  <th>DORM_UNID</th>                   <td>   -0.0311</td> <td>    0.006</td> <td>   -5.369</td> <td> 0.000</td> <td>   -0.042</td> <td>   -0.020</td>\n",
       "</tr>\n",
       "<tr>\n",
       "  <th>BANH_DORM</th>                   <td>    0.3805</td> <td>    0.016</td> <td>   23.295</td> <td> 0.000</td> <td>    0.348</td> <td>    0.413</td>\n",
       "</tr>\n",
       "<tr>\n",
       "  <th>AR_UT_UNID</th>                  <td>    0.0007</td> <td> 9.52e-05</td> <td>    7.160</td> <td> 0.000</td> <td>    0.000</td> <td>    0.001</td>\n",
       "</tr>\n",
       "<tr>\n",
       "  <th>RENRESP10</th>                   <td> 8.876e-05</td> <td> 2.31e-06</td> <td>   38.443</td> <td> 0.000</td> <td> 8.42e-05</td> <td> 9.33e-05</td>\n",
       "</tr>\n",
       "</table>\n",
       "<table class=\"simpletable\">\n",
       "<tr>\n",
       "  <th>Omnibus:</th>       <td>182.487</td> <th>  Durbin-Watson:     </th> <td>   1.983</td>\n",
       "</tr>\n",
       "<tr>\n",
       "  <th>Prob(Omnibus):</th> <td> 0.000</td>  <th>  Jarque-Bera (JB):  </th> <td> 256.849</td>\n",
       "</tr>\n",
       "<tr>\n",
       "  <th>Skew:</th>          <td> 0.172</td>  <th>  Prob(JB):          </th> <td>1.68e-56</td>\n",
       "</tr>\n",
       "<tr>\n",
       "  <th>Kurtosis:</th>      <td> 3.584</td>  <th>  Cond. No.          </th> <td>1.73e+05</td>\n",
       "</tr>\n",
       "</table><br/><br/>Notes:<br/>[1] Standard Errors assume that the covariance matrix of the errors is correctly specified.<br/>[2] The condition number is large, 1.73e+05. This might indicate that there are<br/>strong multicollinearity or other numerical problems."
      ],
      "text/plain": [
       "<class 'statsmodels.iolib.summary.Summary'>\n",
       "\"\"\"\n",
       "                            OLS Regression Results                            \n",
       "==============================================================================\n",
       "Dep. Variable:          PC_AU_ATU_log   R-squared:                       0.545\n",
       "Model:                            OLS   Adj. R-squared:                  0.545\n",
       "Method:                 Least Squares   F-statistic:                     643.9\n",
       "Date:                Fri, 17 Mar 2023   Prob (F-statistic):               0.00\n",
       "Time:                        21:22:37   Log-Likelihood:                -3602.2\n",
       "No. Observations:               13439   AIC:                             7256.\n",
       "Df Residuals:                   13413   BIC:                             7452.\n",
       "Df Model:                          25                                         \n",
       "Covariance Type:            nonrobust                                         \n",
       "===============================================================================================\n",
       "                                  coef    std err          t      P>|t|      [0.025      0.975]\n",
       "-----------------------------------------------------------------------------------------------\n",
       "Intercept                       7.9403      0.040    199.733      0.000       7.862       8.018\n",
       "REGIAO[T.Centro-Sul]           -0.0936      0.015     -6.280      0.000      -0.123      -0.064\n",
       "REGIAO[T.Leste 1]              -0.1878      0.018    -10.410      0.000      -0.223      -0.152\n",
       "REGIAO[T.Leste 2]              -0.2984      0.030    -10.110      0.000      -0.356      -0.241\n",
       "REGIAO[T.Nordeste]             -0.1074      0.017     -6.481      0.000      -0.140      -0.075\n",
       "REGIAO[T.Noroeste]             -0.2252      0.027     -8.217      0.000      -0.279      -0.171\n",
       "REGIAO[T.Oeste]                -0.0938      0.015     -6.417      0.000      -0.122      -0.065\n",
       "REGIAO[T.RMSP]                 -0.3129      0.015    -21.371      0.000      -0.342      -0.284\n",
       "REGIAO[T.Sudeste]              -0.1325      0.015     -8.771      0.000      -0.162      -0.103\n",
       "REGIAO[T.Sul]                  -0.2766      0.017    -16.326      0.000      -0.310      -0.243\n",
       "TIPO_EMP[T.VERTIC]              0.3033      0.009     33.110      0.000       0.285       0.321\n",
       "INCORPORAD[T.ENCOL]             0.1532      0.045      3.393      0.001       0.065       0.242\n",
       "INCORPORAD[T.EVEN]              0.0108      0.040      0.273      0.785      -0.067       0.089\n",
       "INCORPORAD[T.GAFISA]           -0.0098      0.037     -0.263      0.793      -0.083       0.063\n",
       "INCORPORAD[T.GOLDFARB]         -0.2379      0.040     -5.949      0.000      -0.316      -0.160\n",
       "INCORPORAD[T.MRV]              -0.4024      0.041     -9.721      0.000      -0.484      -0.321\n",
       "INCORPORAD[T.NAO INFORMADA]    -0.1225      0.037     -3.302      0.001      -0.195      -0.050\n",
       "INCORPORAD[T.OUTRA]            -0.0824      0.033     -2.520      0.012      -0.147      -0.018\n",
       "INCORPORAD[T.PLANO MELHOR]     -0.1748      0.048     -3.629      0.000      -0.269      -0.080\n",
       "INCORPORAD[T.ROSSI]            -0.1042      0.040     -2.606      0.009      -0.183      -0.026\n",
       "INCORPORAD[T.TECNISA]          -0.0572      0.039     -1.479      0.139      -0.133       0.019\n",
       "INCORPORAD[T.TENDA]            -0.3552      0.045     -7.962      0.000      -0.443      -0.268\n",
       "DORM_UNID                      -0.0311      0.006     -5.369      0.000      -0.042      -0.020\n",
       "BANH_DORM                       0.3805      0.016     23.295      0.000       0.348       0.413\n",
       "AR_UT_UNID                      0.0007   9.52e-05      7.160      0.000       0.000       0.001\n",
       "RENRESP10                    8.876e-05   2.31e-06     38.443      0.000    8.42e-05    9.33e-05\n",
       "==============================================================================\n",
       "Omnibus:                      182.487   Durbin-Watson:                   1.983\n",
       "Prob(Omnibus):                  0.000   Jarque-Bera (JB):              256.849\n",
       "Skew:                           0.172   Prob(JB):                     1.68e-56\n",
       "Kurtosis:                       3.584   Cond. No.                     1.73e+05\n",
       "==============================================================================\n",
       "\n",
       "Notes:\n",
       "[1] Standard Errors assume that the covariance matrix of the errors is correctly specified.\n",
       "[2] The condition number is large, 1.73e+05. This might indicate that there are\n",
       "strong multicollinearity or other numerical problems.\n",
       "\"\"\""
      ]
     },
     "execution_count": 56,
     "metadata": {},
     "output_type": "execute_result"
    }
   ],
   "source": [
    "regressao_au_log = sm.ols(formula='PC_AU_ATU_log ~ REGIAO + DORM_UNID + BANH_DORM + AR_UT_UNID + TIPO_EMP + RENRESP10 + INCORPORAD', data=df.iloc[X_train.index,:]).fit()\n",
    "regressao_au_log.summary()"
   ]
  },
  {
   "cell_type": "code",
   "execution_count": null,
   "metadata": {},
   "outputs": [],
   "source": []
  },
  {
   "attachments": {},
   "cell_type": "markdown",
   "metadata": {},
   "source": [
    "<>3 - Modelo Random Forest<>"
   ]
  },
  {
   "cell_type": "code",
   "execution_count": 29,
   "metadata": {},
   "outputs": [],
   "source": [
    "num_pipeline = Pipeline(steps=[\n",
    "    (\"input\", SimpleImputer()),\n",
    "    ('scaler', StandardScaler()),\n",
    "    ])"
   ]
  },
  {
   "cell_type": "code",
   "execution_count": 30,
   "metadata": {},
   "outputs": [],
   "source": [
    "cat_pipeline = Pipeline(steps=[\n",
    "    (\"cat\", OneHotEncoder(handle_unknown= 'ignore'))\n",
    "    ])"
   ]
  },
  {
   "cell_type": "code",
   "execution_count": 31,
   "metadata": {},
   "outputs": [],
   "source": [
    "#TRANSFORMANDO COLUNAS\n",
    "preprocessing = ColumnTransformer(transformers=[\n",
    "    ('preprocessamento numerico', num_pipeline, numericas2),\n",
    "    ('preprocessamento categorico', cat_pipeline, categoricas2)\n",
    "])"
   ]
  },
  {
   "cell_type": "code",
   "execution_count": 32,
   "metadata": {},
   "outputs": [],
   "source": [
    "model = Pipeline(steps=[('Preprocessamento', preprocessing),\n",
    "                        ('regressao', RandomForestRegressor(n_estimators=10, max_features=0.3))])"
   ]
  },
  {
   "cell_type": "code",
   "execution_count": 33,
   "metadata": {},
   "outputs": [
    {
     "data": {
      "text/html": [
       "<style>#sk-container-id-1 {color: black;background-color: white;}#sk-container-id-1 pre{padding: 0;}#sk-container-id-1 div.sk-toggleable {background-color: white;}#sk-container-id-1 label.sk-toggleable__label {cursor: pointer;display: block;width: 100%;margin-bottom: 0;padding: 0.3em;box-sizing: border-box;text-align: center;}#sk-container-id-1 label.sk-toggleable__label-arrow:before {content: \"▸\";float: left;margin-right: 0.25em;color: #696969;}#sk-container-id-1 label.sk-toggleable__label-arrow:hover:before {color: black;}#sk-container-id-1 div.sk-estimator:hover label.sk-toggleable__label-arrow:before {color: black;}#sk-container-id-1 div.sk-toggleable__content {max-height: 0;max-width: 0;overflow: hidden;text-align: left;background-color: #f0f8ff;}#sk-container-id-1 div.sk-toggleable__content pre {margin: 0.2em;color: black;border-radius: 0.25em;background-color: #f0f8ff;}#sk-container-id-1 input.sk-toggleable__control:checked~div.sk-toggleable__content {max-height: 200px;max-width: 100%;overflow: auto;}#sk-container-id-1 input.sk-toggleable__control:checked~label.sk-toggleable__label-arrow:before {content: \"▾\";}#sk-container-id-1 div.sk-estimator input.sk-toggleable__control:checked~label.sk-toggleable__label {background-color: #d4ebff;}#sk-container-id-1 div.sk-label input.sk-toggleable__control:checked~label.sk-toggleable__label {background-color: #d4ebff;}#sk-container-id-1 input.sk-hidden--visually {border: 0;clip: rect(1px 1px 1px 1px);clip: rect(1px, 1px, 1px, 1px);height: 1px;margin: -1px;overflow: hidden;padding: 0;position: absolute;width: 1px;}#sk-container-id-1 div.sk-estimator {font-family: monospace;background-color: #f0f8ff;border: 1px dotted black;border-radius: 0.25em;box-sizing: border-box;margin-bottom: 0.5em;}#sk-container-id-1 div.sk-estimator:hover {background-color: #d4ebff;}#sk-container-id-1 div.sk-parallel-item::after {content: \"\";width: 100%;border-bottom: 1px solid gray;flex-grow: 1;}#sk-container-id-1 div.sk-label:hover label.sk-toggleable__label {background-color: #d4ebff;}#sk-container-id-1 div.sk-serial::before {content: \"\";position: absolute;border-left: 1px solid gray;box-sizing: border-box;top: 0;bottom: 0;left: 50%;z-index: 0;}#sk-container-id-1 div.sk-serial {display: flex;flex-direction: column;align-items: center;background-color: white;padding-right: 0.2em;padding-left: 0.2em;position: relative;}#sk-container-id-1 div.sk-item {position: relative;z-index: 1;}#sk-container-id-1 div.sk-parallel {display: flex;align-items: stretch;justify-content: center;background-color: white;position: relative;}#sk-container-id-1 div.sk-item::before, #sk-container-id-1 div.sk-parallel-item::before {content: \"\";position: absolute;border-left: 1px solid gray;box-sizing: border-box;top: 0;bottom: 0;left: 50%;z-index: -1;}#sk-container-id-1 div.sk-parallel-item {display: flex;flex-direction: column;z-index: 1;position: relative;background-color: white;}#sk-container-id-1 div.sk-parallel-item:first-child::after {align-self: flex-end;width: 50%;}#sk-container-id-1 div.sk-parallel-item:last-child::after {align-self: flex-start;width: 50%;}#sk-container-id-1 div.sk-parallel-item:only-child::after {width: 0;}#sk-container-id-1 div.sk-dashed-wrapped {border: 1px dashed gray;margin: 0 0.4em 0.5em 0.4em;box-sizing: border-box;padding-bottom: 0.4em;background-color: white;}#sk-container-id-1 div.sk-label label {font-family: monospace;font-weight: bold;display: inline-block;line-height: 1.2em;}#sk-container-id-1 div.sk-label-container {text-align: center;}#sk-container-id-1 div.sk-container {/* jupyter's `normalize.less` sets `[hidden] { display: none; }` but bootstrap.min.css set `[hidden] { display: none !important; }` so we also need the `!important` here to be able to override the default hidden behavior on the sphinx rendered scikit-learn.org. See: https://github.com/scikit-learn/scikit-learn/issues/21755 */display: inline-block !important;position: relative;}#sk-container-id-1 div.sk-text-repr-fallback {display: none;}</style><div id=\"sk-container-id-1\" class=\"sk-top-container\"><div class=\"sk-text-repr-fallback\"><pre>Pipeline(steps=[(&#x27;Preprocessamento&#x27;,\n",
       "                 ColumnTransformer(transformers=[(&#x27;preprocessamento numerico&#x27;,\n",
       "                                                  Pipeline(steps=[(&#x27;input&#x27;,\n",
       "                                                                   SimpleImputer()),\n",
       "                                                                  (&#x27;scaler&#x27;,\n",
       "                                                                   StandardScaler())]),\n",
       "                                                  Index([&#x27;ANO_LAN&#x27;, &#x27;DORM_UNID&#x27;, &#x27;BANH_UNID&#x27;, &#x27;GAR_UNID&#x27;, &#x27;ELEV&#x27;, &#x27;COB&#x27;,\n",
       "       &#x27;BLOCOS&#x27;, &#x27;UNIDAND&#x27;, &#x27;ANDARES&#x27;, &#x27;AR_UT_UNID&#x27;, &#x27;AR_TT_UNID&#x27;,\n",
       "       &#x27;AR_TT_TERR&#x27;, &#x27;TT_UNID&#x27;, &#x27;DORM_EMP&#x27;, &#x27;BANH_EMP&#x27;, &#x27;GAR_EMP&#x27;, &#x27;AU_EMP...\n",
       "      dtype=&#x27;object&#x27;)),\n",
       "                                                 (&#x27;preprocessamento categorico&#x27;,\n",
       "                                                  Pipeline(steps=[(&#x27;cat&#x27;,\n",
       "                                                                   OneHotEncoder(handle_unknown=&#x27;ignore&#x27;))]),\n",
       "                                                  Index([&#x27;TIPO_EMP&#x27;, &#x27;MES_LAN&#x27;, &#x27;DATA_ENT&#x27;, &#x27;DIST&#x27;, &#x27;SUBPREF&#x27;, &#x27;MUNICIPIO&#x27;,\n",
       "       &#x27;TIPO_VIA&#x27;, &#x27;ZONA&#x27;, &#x27;SIST_FINAN&#x27;, &#x27;INCORPORAD&#x27;, &#x27;CONSTRUTOR&#x27;,\n",
       "       &#x27;INCORPOR_A&#x27;, &#x27;CONSTRUT_A&#x27;, &#x27;REGIAO&#x27;],\n",
       "      dtype=&#x27;object&#x27;))])),\n",
       "                (&#x27;regressao&#x27;,\n",
       "                 RandomForestRegressor(max_features=0.3, n_estimators=10))])</pre><b>In a Jupyter environment, please rerun this cell to show the HTML representation or trust the notebook. <br />On GitHub, the HTML representation is unable to render, please try loading this page with nbviewer.org.</b></div><div class=\"sk-container\" hidden><div class=\"sk-item sk-dashed-wrapped\"><div class=\"sk-label-container\"><div class=\"sk-label sk-toggleable\"><input class=\"sk-toggleable__control sk-hidden--visually\" id=\"sk-estimator-id-1\" type=\"checkbox\" ><label for=\"sk-estimator-id-1\" class=\"sk-toggleable__label sk-toggleable__label-arrow\">Pipeline</label><div class=\"sk-toggleable__content\"><pre>Pipeline(steps=[(&#x27;Preprocessamento&#x27;,\n",
       "                 ColumnTransformer(transformers=[(&#x27;preprocessamento numerico&#x27;,\n",
       "                                                  Pipeline(steps=[(&#x27;input&#x27;,\n",
       "                                                                   SimpleImputer()),\n",
       "                                                                  (&#x27;scaler&#x27;,\n",
       "                                                                   StandardScaler())]),\n",
       "                                                  Index([&#x27;ANO_LAN&#x27;, &#x27;DORM_UNID&#x27;, &#x27;BANH_UNID&#x27;, &#x27;GAR_UNID&#x27;, &#x27;ELEV&#x27;, &#x27;COB&#x27;,\n",
       "       &#x27;BLOCOS&#x27;, &#x27;UNIDAND&#x27;, &#x27;ANDARES&#x27;, &#x27;AR_UT_UNID&#x27;, &#x27;AR_TT_UNID&#x27;,\n",
       "       &#x27;AR_TT_TERR&#x27;, &#x27;TT_UNID&#x27;, &#x27;DORM_EMP&#x27;, &#x27;BANH_EMP&#x27;, &#x27;GAR_EMP&#x27;, &#x27;AU_EMP...\n",
       "      dtype=&#x27;object&#x27;)),\n",
       "                                                 (&#x27;preprocessamento categorico&#x27;,\n",
       "                                                  Pipeline(steps=[(&#x27;cat&#x27;,\n",
       "                                                                   OneHotEncoder(handle_unknown=&#x27;ignore&#x27;))]),\n",
       "                                                  Index([&#x27;TIPO_EMP&#x27;, &#x27;MES_LAN&#x27;, &#x27;DATA_ENT&#x27;, &#x27;DIST&#x27;, &#x27;SUBPREF&#x27;, &#x27;MUNICIPIO&#x27;,\n",
       "       &#x27;TIPO_VIA&#x27;, &#x27;ZONA&#x27;, &#x27;SIST_FINAN&#x27;, &#x27;INCORPORAD&#x27;, &#x27;CONSTRUTOR&#x27;,\n",
       "       &#x27;INCORPOR_A&#x27;, &#x27;CONSTRUT_A&#x27;, &#x27;REGIAO&#x27;],\n",
       "      dtype=&#x27;object&#x27;))])),\n",
       "                (&#x27;regressao&#x27;,\n",
       "                 RandomForestRegressor(max_features=0.3, n_estimators=10))])</pre></div></div></div><div class=\"sk-serial\"><div class=\"sk-item sk-dashed-wrapped\"><div class=\"sk-label-container\"><div class=\"sk-label sk-toggleable\"><input class=\"sk-toggleable__control sk-hidden--visually\" id=\"sk-estimator-id-2\" type=\"checkbox\" ><label for=\"sk-estimator-id-2\" class=\"sk-toggleable__label sk-toggleable__label-arrow\">Preprocessamento: ColumnTransformer</label><div class=\"sk-toggleable__content\"><pre>ColumnTransformer(transformers=[(&#x27;preprocessamento numerico&#x27;,\n",
       "                                 Pipeline(steps=[(&#x27;input&#x27;, SimpleImputer()),\n",
       "                                                 (&#x27;scaler&#x27;, StandardScaler())]),\n",
       "                                 Index([&#x27;ANO_LAN&#x27;, &#x27;DORM_UNID&#x27;, &#x27;BANH_UNID&#x27;, &#x27;GAR_UNID&#x27;, &#x27;ELEV&#x27;, &#x27;COB&#x27;,\n",
       "       &#x27;BLOCOS&#x27;, &#x27;UNIDAND&#x27;, &#x27;ANDARES&#x27;, &#x27;AR_UT_UNID&#x27;, &#x27;AR_TT_UNID&#x27;,\n",
       "       &#x27;AR_TT_TERR&#x27;, &#x27;TT_UNID&#x27;, &#x27;DORM_EMP&#x27;, &#x27;BANH_EMP&#x27;, &#x27;GAR_EMP&#x27;, &#x27;AU_EMP&#x27;,\n",
       "       &#x27;AT_EMP&#x27;, &#x27;COOPERATIV&#x27;, &#x27;HOTEL&#x27;, &#x27;FLA...\n",
       "       &#x27;PERC_BRANCOS&#x27;, &#x27;PERC_PPI&#x27;, &#x27;AR_UT_UNID_log&#x27;, &#x27;RENRESP10_log&#x27;],\n",
       "      dtype=&#x27;object&#x27;)),\n",
       "                                (&#x27;preprocessamento categorico&#x27;,\n",
       "                                 Pipeline(steps=[(&#x27;cat&#x27;,\n",
       "                                                  OneHotEncoder(handle_unknown=&#x27;ignore&#x27;))]),\n",
       "                                 Index([&#x27;TIPO_EMP&#x27;, &#x27;MES_LAN&#x27;, &#x27;DATA_ENT&#x27;, &#x27;DIST&#x27;, &#x27;SUBPREF&#x27;, &#x27;MUNICIPIO&#x27;,\n",
       "       &#x27;TIPO_VIA&#x27;, &#x27;ZONA&#x27;, &#x27;SIST_FINAN&#x27;, &#x27;INCORPORAD&#x27;, &#x27;CONSTRUTOR&#x27;,\n",
       "       &#x27;INCORPOR_A&#x27;, &#x27;CONSTRUT_A&#x27;, &#x27;REGIAO&#x27;],\n",
       "      dtype=&#x27;object&#x27;))])</pre></div></div></div><div class=\"sk-parallel\"><div class=\"sk-parallel-item\"><div class=\"sk-item\"><div class=\"sk-label-container\"><div class=\"sk-label sk-toggleable\"><input class=\"sk-toggleable__control sk-hidden--visually\" id=\"sk-estimator-id-3\" type=\"checkbox\" ><label for=\"sk-estimator-id-3\" class=\"sk-toggleable__label sk-toggleable__label-arrow\">preprocessamento numerico</label><div class=\"sk-toggleable__content\"><pre>Index([&#x27;ANO_LAN&#x27;, &#x27;DORM_UNID&#x27;, &#x27;BANH_UNID&#x27;, &#x27;GAR_UNID&#x27;, &#x27;ELEV&#x27;, &#x27;COB&#x27;,\n",
       "       &#x27;BLOCOS&#x27;, &#x27;UNIDAND&#x27;, &#x27;ANDARES&#x27;, &#x27;AR_UT_UNID&#x27;, &#x27;AR_TT_UNID&#x27;,\n",
       "       &#x27;AR_TT_TERR&#x27;, &#x27;TT_UNID&#x27;, &#x27;DORM_EMP&#x27;, &#x27;BANH_EMP&#x27;, &#x27;GAR_EMP&#x27;, &#x27;AU_EMP&#x27;,\n",
       "       &#x27;AT_EMP&#x27;, &#x27;COOPERATIV&#x27;, &#x27;HOTEL&#x27;, &#x27;FLAT&#x27;, &#x27;EXFLAT&#x27;, &#x27;AP2010&#x27;, &#x27;SC_2010&#x27;,\n",
       "       &#x27;RENRESP10&#x27;, &#x27;BANH_DORM&#x27;, &#x27;Domicílios_Setor&#x27;,\n",
       "       &#x27;Média_Moradores_por_domicilio_setor&#x27;, &#x27;Média_Renda_Responsaveis_Setor&#x27;,\n",
       "       &#x27;Domicilios no setor censitário&#x27;, &#x27;Domicilios alugados&#x27;,\n",
       "       &#x27;Domicilios unipessoais&#x27;, &#x27;Domicilios 2 ou 3 moradores&#x27;,\n",
       "       &#x27;Domicilios 4 ou mais moradores&#x27;, &#x27;Residentes no setor censitário&#x27;,\n",
       "       &#x27;Brancos&#x27;, &#x27;Pretos&#x27;, &#x27;Amarelos&#x27;, &#x27;Pardos&#x27;, &#x27;Índigenas&#x27;,\n",
       "       &#x27;Total de filhos dos responsáveis de domicílios&#x27;, &#x27;PERC_ALUGADOS&#x27;,\n",
       "       &#x27;PERC_UNIPESSOAIS&#x27;, &#x27;PERC_2_3_MORADORES&#x27;, &#x27;PERC_4_MAIS_MORADORES&#x27;,\n",
       "       &#x27;PERC_BRANCOS&#x27;, &#x27;PERC_PPI&#x27;, &#x27;AR_UT_UNID_log&#x27;, &#x27;RENRESP10_log&#x27;],\n",
       "      dtype=&#x27;object&#x27;)</pre></div></div></div><div class=\"sk-serial\"><div class=\"sk-item\"><div class=\"sk-serial\"><div class=\"sk-item\"><div class=\"sk-estimator sk-toggleable\"><input class=\"sk-toggleable__control sk-hidden--visually\" id=\"sk-estimator-id-4\" type=\"checkbox\" ><label for=\"sk-estimator-id-4\" class=\"sk-toggleable__label sk-toggleable__label-arrow\">SimpleImputer</label><div class=\"sk-toggleable__content\"><pre>SimpleImputer()</pre></div></div></div><div class=\"sk-item\"><div class=\"sk-estimator sk-toggleable\"><input class=\"sk-toggleable__control sk-hidden--visually\" id=\"sk-estimator-id-5\" type=\"checkbox\" ><label for=\"sk-estimator-id-5\" class=\"sk-toggleable__label sk-toggleable__label-arrow\">StandardScaler</label><div class=\"sk-toggleable__content\"><pre>StandardScaler()</pre></div></div></div></div></div></div></div></div><div class=\"sk-parallel-item\"><div class=\"sk-item\"><div class=\"sk-label-container\"><div class=\"sk-label sk-toggleable\"><input class=\"sk-toggleable__control sk-hidden--visually\" id=\"sk-estimator-id-6\" type=\"checkbox\" ><label for=\"sk-estimator-id-6\" class=\"sk-toggleable__label sk-toggleable__label-arrow\">preprocessamento categorico</label><div class=\"sk-toggleable__content\"><pre>Index([&#x27;TIPO_EMP&#x27;, &#x27;MES_LAN&#x27;, &#x27;DATA_ENT&#x27;, &#x27;DIST&#x27;, &#x27;SUBPREF&#x27;, &#x27;MUNICIPIO&#x27;,\n",
       "       &#x27;TIPO_VIA&#x27;, &#x27;ZONA&#x27;, &#x27;SIST_FINAN&#x27;, &#x27;INCORPORAD&#x27;, &#x27;CONSTRUTOR&#x27;,\n",
       "       &#x27;INCORPOR_A&#x27;, &#x27;CONSTRUT_A&#x27;, &#x27;REGIAO&#x27;],\n",
       "      dtype=&#x27;object&#x27;)</pre></div></div></div><div class=\"sk-serial\"><div class=\"sk-item\"><div class=\"sk-serial\"><div class=\"sk-item\"><div class=\"sk-estimator sk-toggleable\"><input class=\"sk-toggleable__control sk-hidden--visually\" id=\"sk-estimator-id-7\" type=\"checkbox\" ><label for=\"sk-estimator-id-7\" class=\"sk-toggleable__label sk-toggleable__label-arrow\">OneHotEncoder</label><div class=\"sk-toggleable__content\"><pre>OneHotEncoder(handle_unknown=&#x27;ignore&#x27;)</pre></div></div></div></div></div></div></div></div></div></div><div class=\"sk-item\"><div class=\"sk-estimator sk-toggleable\"><input class=\"sk-toggleable__control sk-hidden--visually\" id=\"sk-estimator-id-8\" type=\"checkbox\" ><label for=\"sk-estimator-id-8\" class=\"sk-toggleable__label sk-toggleable__label-arrow\">RandomForestRegressor</label><div class=\"sk-toggleable__content\"><pre>RandomForestRegressor(max_features=0.3, n_estimators=10)</pre></div></div></div></div></div></div></div>"
      ],
      "text/plain": [
       "Pipeline(steps=[('Preprocessamento',\n",
       "                 ColumnTransformer(transformers=[('preprocessamento numerico',\n",
       "                                                  Pipeline(steps=[('input',\n",
       "                                                                   SimpleImputer()),\n",
       "                                                                  ('scaler',\n",
       "                                                                   StandardScaler())]),\n",
       "                                                  Index(['ANO_LAN', 'DORM_UNID', 'BANH_UNID', 'GAR_UNID', 'ELEV', 'COB',\n",
       "       'BLOCOS', 'UNIDAND', 'ANDARES', 'AR_UT_UNID', 'AR_TT_UNID',\n",
       "       'AR_TT_TERR', 'TT_UNID', 'DORM_EMP', 'BANH_EMP', 'GAR_EMP', 'AU_EMP...\n",
       "      dtype='object')),\n",
       "                                                 ('preprocessamento categorico',\n",
       "                                                  Pipeline(steps=[('cat',\n",
       "                                                                   OneHotEncoder(handle_unknown='ignore'))]),\n",
       "                                                  Index(['TIPO_EMP', 'MES_LAN', 'DATA_ENT', 'DIST', 'SUBPREF', 'MUNICIPIO',\n",
       "       'TIPO_VIA', 'ZONA', 'SIST_FINAN', 'INCORPORAD', 'CONSTRUTOR',\n",
       "       'INCORPOR_A', 'CONSTRUT_A', 'REGIAO'],\n",
       "      dtype='object'))])),\n",
       "                ('regressao',\n",
       "                 RandomForestRegressor(max_features=0.3, n_estimators=10))])"
      ]
     },
     "execution_count": 33,
     "metadata": {},
     "output_type": "execute_result"
    }
   ],
   "source": [
    "model.fit(X_train, y_train)"
   ]
  },
  {
   "cell_type": "code",
   "execution_count": 34,
   "metadata": {},
   "outputs": [
    {
     "data": {
      "text/plain": [
       "0.8223095450504386"
      ]
     },
     "execution_count": 34,
     "metadata": {},
     "output_type": "execute_result"
    }
   ],
   "source": [
    "model.score(X_test, y_test)"
   ]
  },
  {
   "cell_type": "code",
   "execution_count": 35,
   "metadata": {},
   "outputs": [],
   "source": [
    "feature_importances = model[1][1].feature_importances_"
   ]
  },
  {
   "cell_type": "code",
   "execution_count": 36,
   "metadata": {},
   "outputs": [],
   "source": [
    "permutation_result = permutation_importance(model, X_test, y_test, n_repeats=30)"
   ]
  },
  {
   "cell_type": "code",
   "execution_count": 37,
   "metadata": {},
   "outputs": [],
   "source": [
    "df_importancia = pd.DataFrame({'column' : X_test.columns, 'importance': permutation_result.importances_mean})\n",
    "df_importancia.sort_values(by='importance', ascending=False, inplace=True)"
   ]
  },
  {
   "cell_type": "code",
   "execution_count": 38,
   "metadata": {},
   "outputs": [
    {
     "data": {
      "text/plain": [
       "Text(0.5, 0.98, 'Variáveis mais importantes no entendimento dos valores de residências vendidas')"
      ]
     },
     "execution_count": 38,
     "metadata": {},
     "output_type": "execute_result"
    },
    {
     "data": {
      "image/png": "[encoded data removed]",
      "text/plain": [
       "<Figure size 1200x800 with 1 Axes>"
      ]
     },
     "metadata": {},
     "output_type": "display_data"
    }
   ],
   "source": [
    "fig, axs = plt.subplots(figsize=(12,8), facecolor='white')\n",
    "ax = sns.barplot(x='column', y=\"importance\", data=df_importancia.nlargest(15, 'importance'))\n",
    "plt.xticks(rotation=90)\n",
    "plt.tight_layout()\n",
    "\n",
    "fig.suptitle('Variáveis mais importantes no entendimento dos valores de residências vendidas')"
   ]
  },
  {
   "attachments": {},
   "cell_type": "markdown",
   "metadata": {},
   "source": [
    "Conjunto 1: 0.65 (RandomF), 0.39 (RegressãoL)\n",
    "Conjunto IBGE: 0.53 (RandomF), 0.26 (RegressãoL)\n",
    "Conjunto 1_log: 0.69 (RandomF), 0.40 (RegressãoL)"
   ]
  },
  {
   "cell_type": "code",
   "execution_count": 39,
   "metadata": {},
   "outputs": [],
   "source": [
    "y_pred = model.predict(X_test)"
   ]
  },
  {
   "cell_type": "code",
   "execution_count": 40,
   "metadata": {},
   "outputs": [
    {
     "data": {
      "text/html": [
       "<div>\n",
       "<style scoped>\n",
       "    .dataframe tbody tr th:only-of-type {\n",
       "        vertical-align: middle;\n",
       "    }\n",
       "\n",
       "    .dataframe tbody tr th {\n",
       "        vertical-align: top;\n",
       "    }\n",
       "\n",
       "    .dataframe thead th {\n",
       "        text-align: right;\n",
       "    }\n",
       "</style>\n",
       "<table border=\"1\" class=\"dataframe\">\n",
       "  <thead>\n",
       "    <tr style=\"text-align: right;\">\n",
       "      <th></th>\n",
       "      <th>metric</th>\n",
       "      <th>valid</th>\n",
       "    </tr>\n",
       "  </thead>\n",
       "  <tbody>\n",
       "    <tr>\n",
       "      <th>0</th>\n",
       "      <td>RMSE</td>\n",
       "      <td>0.20</td>\n",
       "    </tr>\n",
       "    <tr>\n",
       "      <th>1</th>\n",
       "      <td>MAE</td>\n",
       "      <td>0.14</td>\n",
       "    </tr>\n",
       "    <tr>\n",
       "      <th>2</th>\n",
       "      <td>R^2</td>\n",
       "      <td>0.82</td>\n",
       "    </tr>\n",
       "    <tr>\n",
       "      <th>3</th>\n",
       "      <td>MAPE</td>\n",
       "      <td>0.02</td>\n",
       "    </tr>\n",
       "    <tr>\n",
       "      <th>4</th>\n",
       "      <td>Avg. target</td>\n",
       "      <td>8.53</td>\n",
       "    </tr>\n",
       "    <tr>\n",
       "      <th>5</th>\n",
       "      <td>Avg. Prediction</td>\n",
       "      <td>8.53</td>\n",
       "    </tr>\n",
       "  </tbody>\n",
       "</table>\n",
       "</div>"
      ],
      "text/plain": [
       "            metric  valid\n",
       "0             RMSE   0.20\n",
       "1              MAE   0.14\n",
       "2              R^2   0.82\n",
       "3             MAPE   0.02\n",
       "4      Avg. target   8.53\n",
       "5  Avg. Prediction   8.53"
      ]
     },
     "execution_count": 40,
     "metadata": {},
     "output_type": "execute_result"
    }
   ],
   "source": [
    "baseline_report = imprimir_metricas(y_test, y_pred)\n",
    "baseline_report"
   ]
  },
  {
   "cell_type": "code",
   "execution_count": null,
   "metadata": {},
   "outputs": [],
   "source": []
  }
 ],
 "metadata": {
  "kernelspec": {
   "display_name": "Python 3",
   "language": "python",
   "name": "python3"
  },
  "language_info": {
   "codemirror_mode": {
    "name": "ipython",
    "version": 3
   },
   "file_extension": ".py",
   "mimetype": "text/x-python",
   "name": "python",
   "nbconvert_exporter": "python",
   "pygments_lexer": "ipython3",
   "version": "3.10.10"
  },
  "orig_nbformat": 4,
  "vscode": {
   "interpreter": {
    "hash": "adf0493720704c1abaf9e3cbeb8fae33bce164851e3bac93058057e194572999"
   }
  }
 },
 "nbformat": 4,
 "nbformat_minor": 2
}
